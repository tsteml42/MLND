{
 "cells": [
  {
   "cell_type": "markdown",
   "metadata": {},
   "source": [
    "# Connect Intensive - Machine Learning Nanodegree\n",
    "# Lesson 1: An intro to Statistical Analysis using `pandas`\n",
    "\n",
    "## Objectives\n",
    "  - Practice running python from within a [Jupyter Notebook](http://jupyter.org/) (FKA IPython Notebook).\n",
    "  - Become familiar with importing useful modules and packages, *e.g.* `pandas`, `numpy`, `matplotlib.pyplot`.\n",
    "  - Learn about the [`pandas` data structures](http://pandas.pydata.org/pandas-docs/stable/dsintro.html#), including the `Series` and `DataFrame` objects.\n",
    "  - Create a `DataFrame` object from data in a comma-separated variable (csv) file using [`pandas.read_csv`](http://pandas.pydata.org/pandas-docs/stable/generated/pandas.read_csv.html)\n",
    "  - [Index and select data](http://pandas.pydata.org/pandas-docs/stable/indexing.html) from `Series` and `DataFrame` objects using `loc` and `iloc`\n",
    "  - Compute descriptive statistics on a `Series` or `DataFrame`, including the [`mean`](http://pandas.pydata.org/pandas-docs/stable/generated/pandas.DataFrame.mean.html), the [`median`](http://pandas.pydata.org/pandas-docs/stable/generated/pandas.DataFrame.median.html), and the [`min`](http://pandas.pydata.org/pandas-docs/stable/generated/pandas.DataFrame.min.html) & [`max`](http://pandas.pydata.org/pandas-docs/stable/generated/pandas.DataFrame.max.html)\n",
    "  - Explore a public data set found on [Kaggle](https://www.kaggle.com/)\n",
    "  - Conduct some exploratory data analysis, and visualize trends in data using `matplotlib`\n",
    "  \n"
   ]
  },
  {
   "cell_type": "markdown",
   "metadata": {},
   "source": [
    "## Introduction\n",
    "Exploring and understanding datasets is a crucial skill for any machine learning engineer. The library **`pandas`** is a Python package developed by Wes McKinney that machine learning engineers use to quickly and efficiently navigate data sets. From [the pandas documentation](http://pandas.pydata.org/pandas-docs/stable/index.html):\n",
    "\n",
    "> \"**`pandas`** is a Python package providing fast, flexible, and expressive data structures designed to make working with “relational” or “labeled” data both easy and intuitive.\"\n",
    "\n",
    "Fun fact: the name \"`pandas`\" derives from **pan**el **da**ta, a term for multi-dimensional data sets! [(source)](http://www.dlr.de/sc/Portaldata/15/Resources/dokumente/pyhpc2011/submissions/pyhpc2011_submission_9.pdf)\n",
    "\n",
    "## There's plenty to learn!\n",
    "Much of the information and code in this Jupyter Notebook may be new to you. No reason to concern, a wide array of documentation and references have been hyperlinked for you. Click on any of the hyperlinks to learn more -- the links should open within a new tab, so you won't lose your progress in the Jupyter Notebook. If you're still feeling uncertain about a topic, often the best place to start is a quick web search. For example, if Python is throwing me an error I've never seen before, I'll often copy and paste the error right into a Google search and see what comes up!"
   ]
  },
  {
   "cell_type": "markdown",
   "metadata": {},
   "source": [
    "## First things first: Import statements\n",
    "In Jupyter Notebooks, importing useful modules and packages should be among the first tasks because they provide more functionality to the code. For example, in this project the `pandas` import will be used so that we can manipulate data utilizing the `DataFrame` object. We also want to have our Jupyter Notebook create figures and plots directly within the notebook. To do this, we use the [magic function](http://ipython.readthedocs.io/en/stable/interactive/tutorial.html#magics-explained) `%matplotlib inline`. For more information on plotting within the IPython kernel, [check this out](http://ipython.readthedocs.io/en/stable/interactive/plotting.html)!\n",
    "\n",
    "**Run** the cell below (**click** on the cell to highlight it, then press **shift + enter** or **shift + return** to run it) to import modules and libraries for this Jupyter Notebook"
   ]
  },
  {
   "cell_type": "code",
   "execution_count": 1,
   "metadata": {
    "collapsed": false
   },
   "outputs": [
    {
     "name": "stdout",
     "output_type": "stream",
     "text": [
      "Successfully imported numpy! (Version 1.11.3)\n",
      "Successfully imported matplotlib.pyplot! (Version 2.0.0)\n",
      "Successfully imported pandas! (Version 0.19.2)\n",
      "Successfully imported display from IPython.display!\n",
      "Successfully imported ZipFile from zipfile!\n",
      "Successfully imported os.path!\n"
     ]
    }
   ],
   "source": [
    "'''\n",
    "Importing Libraries: \n",
    "\n",
    "import numpy as np \n",
    "import warnings\n",
    "import pandas as pd\n",
    "from IPython.display import display\n",
    "from zipfile import ZipFile\n",
    "import os.path''' \n",
    "\n",
    "\n",
    "%matplotlib inline\n",
    "\n",
    "\n",
    "try:\n",
    "    import numpy as np\n",
    "    print(\"Successfully imported numpy! (Version {})\".format(np.version.version))\n",
    "except ImportError:\n",
    "    print(\"Could not import numpy!\")\n",
    "\n",
    "    \n",
    "try:\n",
    "    import warnings\n",
    "    with warnings.catch_warnings():\n",
    "        warnings.simplefilter(\"ignore\");\n",
    "        import matplotlib\n",
    "        import matplotlib.pyplot as plt\n",
    "    plt.style.use('ggplot')\n",
    "    print(\"Successfully imported matplotlib.pyplot! (Version {})\".format(matplotlib.__version__))\n",
    "except ImportError:\n",
    "    print(\"Could not import matplotlib.pyplot!\")\n",
    "\n",
    "    \n",
    "try:\n",
    "    import pandas as pd\n",
    "    print(\"Successfully imported pandas! (Version {})\".format(pd.__version__))\n",
    "    pd.options.display.max_rows = 10\n",
    "except ImportError:\n",
    "    print(\"Could not import pandas!\")\n",
    "\n",
    "    \n",
    "try:\n",
    "    from IPython.display import display\n",
    "    print(\"Successfully imported display from IPython.display!\")\n",
    "except ImportError:\n",
    "    print(\"Could not import display from IPython.display\")\n",
    "\n",
    "    \n",
    "try:\n",
    "    from zipfile import ZipFile\n",
    "    print(\"Successfully imported ZipFile from zipfile!\")\n",
    "except ImportError:\n",
    "    print(\"Could not import ZipFile from zipfile\")\n",
    "    \n",
    "try:\n",
    "    import os.path\n",
    "    print(\"Successfully imported os.path!\")\n",
    "except ImportError:\n",
    "    print(\"Could not import os.path\")"
   ]
  },
  {
   "cell_type": "markdown",
   "metadata": {},
   "source": [
    "## Extracting from a ZIP archive\n",
    "Let's create our first DataFrame using pandas! You can learn more about the DataFrame object from [the pandas documentation on DataFrames](http://pandas.pydata.org/pandas-docs/stable/generated/pandas.DataFrame.html). The dataset that we are going to explore and manipulate was obtained from [Kaggle datasets](https://www.kaggle.com/datasets). The user Cathie So crawled the [Kickstarter](https://www.kickstarter.com/) website to  retrieve  data on the 4000 most backed projects on the site, and put the [project data on Kaggle](https://www.kaggle.com/socathie/kickstarter-project-statistics). The csv file `'most_backed.csv'` which contains the project data is zipped within the archive `'kickstarter'`.\n",
    "\n",
    "**Run** the cell below to extract the csv file from the ZIP archive using [the zipfile module](https://docs.python.org/2/library/zipfile.html)."
   ]
  },
  {
   "cell_type": "code",
   "execution_count": 2,
   "metadata": {
    "collapsed": false
   },
   "outputs": [
    {
     "name": "stdout",
     "output_type": "stream",
     "text": [
      "The file most_backed.csv has been extracted!\n"
     ]
    }
   ],
   "source": [
    "# The dataset is compressed within the zip file in this directory called 'kickstarter'\n",
    "zip_file_name = 'kickstarter.zip'\n",
    "\n",
    "# Create a ZipFile object using the zip file name\n",
    "zf = ZipFile(file=zip_file_name)\n",
    "\n",
    "# Within the zip file is a comma-separated values (csv) file containing the project data named 'most_backed.csv'\n",
    "in_file_name = 'most_backed.csv'\n",
    "\n",
    "# Extract the project data into the current directory from the zip file \n",
    "zf.extract(member=in_file_name)\n",
    "\n",
    "# Close the ZipFile object -- we won't need it any more\n",
    "zf.close()\n",
    "\n",
    "# Print a success message if the csv file was extracted from the zip file\n",
    "if os.path.isfile(in_file_name):\n",
    "    print(\"The file {} has been extracted!\".format(in_file_name))\n",
    "else:\n",
    "    print(\"Could not extract the file {}\".format(in_file_name))"
   ]
  },
  {
   "cell_type": "markdown",
   "metadata": {},
   "source": [
    "## Our first `DataFrame`!\n",
    "Now that we've extracted the file `'most_backed.csv'` from the ZIP archive containing the project data, we can create a `DataFrame` object from the csv file. The first line of the csv file contains the **feature** or **attribute** names, while each subsequent line in the file describes one **instance** or **input** of the data.\n",
    "\n",
    "**Run** the cell below to use `pd.read_csv` to read the csv into a `DataFrame` object that we will call `df`. Then, the first 5 lines of the `DataFrame` will be displayed using `df.head(5)`. For more information on these methods, the documentation for [`read_csv`](http://pandas.pydata.org/pandas-docs/stable/generated/pandas.read_csv.html) and [`head`](http://pandas.pydata.org/pandas-docs/stable/generated/pandas.DataFrame.head.html) is a good place to start!"
   ]
  },
  {
   "cell_type": "code",
   "execution_count": 6,
   "metadata": {
    "collapsed": false
   },
   "outputs": [
    {
     "data": {
      "text/html": [
       "<div>\n",
       "<table border=\"1\" class=\"dataframe\">\n",
       "  <thead>\n",
       "    <tr style=\"text-align: right;\">\n",
       "      <th></th>\n",
       "      <th>Unnamed: 0</th>\n",
       "      <th>amt_pledged</th>\n",
       "      <th>blurb</th>\n",
       "      <th>by</th>\n",
       "      <th>category</th>\n",
       "      <th>currency</th>\n",
       "      <th>goal</th>\n",
       "      <th>location</th>\n",
       "      <th>num_backers</th>\n",
       "      <th>num_backers_tier</th>\n",
       "      <th>pledge_tier</th>\n",
       "      <th>title</th>\n",
       "      <th>url</th>\n",
       "    </tr>\n",
       "  </thead>\n",
       "  <tbody>\n",
       "    <tr>\n",
       "      <th>0</th>\n",
       "      <td>0</td>\n",
       "      <td>8782571</td>\n",
       "      <td>\\nThis is a card game for people who are into ...</td>\n",
       "      <td>Elan Lee</td>\n",
       "      <td>Tabletop Games</td>\n",
       "      <td>usd</td>\n",
       "      <td>10000</td>\n",
       "      <td>Los Angeles, CA</td>\n",
       "      <td>219382</td>\n",
       "      <td>[15505, 202934, 200, 5]</td>\n",
       "      <td>[20.0, 35.0, 100.0, 500.0]</td>\n",
       "      <td>Exploding Kittens</td>\n",
       "      <td>/projects/elanlee/exploding-kittens</td>\n",
       "    </tr>\n",
       "  </tbody>\n",
       "</table>\n",
       "</div>"
      ],
      "text/plain": [
       "   Unnamed: 0  amt_pledged                                              blurb  \\\n",
       "0           0      8782571  \\nThis is a card game for people who are into ...   \n",
       "\n",
       "         by        category currency   goal         location  num_backers  \\\n",
       "0  Elan Lee  Tabletop Games      usd  10000  Los Angeles, CA       219382   \n",
       "\n",
       "          num_backers_tier                 pledge_tier              title  \\\n",
       "0  [15505, 202934, 200, 5]  [20.0, 35.0, 100.0, 500.0]  Exploding Kittens   \n",
       "\n",
       "                                   url  \n",
       "0  /projects/elanlee/exploding-kittens  "
      ]
     },
     "metadata": {},
     "output_type": "display_data"
    }
   ],
   "source": [
    "df = pd.read_csv(in_file_name)\n",
    "display(df.head(1))"
   ]
  },
  {
   "cell_type": "markdown",
   "metadata": {},
   "source": [
    "## Removing non-useful features\n",
    "Our `DataFrame` contains a lot of information for each project:\n",
    "\n",
    "\n",
    "- Unnamed:0: a number indicating which row the instance is on. \n",
    "- amt_pledged: The amount of funding the project received from backers. \n",
    "- blurb: A short description of the project. \n",
    "- by: The person or group who submitted the project. \n",
    "- category: The Kickstarter designated category the project belongs to. \n",
    "- currency: The currency that the project was funded in. \n",
    "- goal: The initial funding amount being requested for the project. \n",
    "- location: The geographic location of the submitter. \n",
    "- num_backers: The number of people who backed the project by pledging money. \n",
    "- num_backers.tier: The number of people who pledged money in each pledge tier (see below). \n",
    "- pledge_tier: Designated funding amount categories in which backers can pledge (in dollars). \n",
    "- title: The title of the project. \n",
    "- url: The URL of the project. \n",
    "\n",
    "\n",
    "\n",
    "However, the first column of the `DataFrame`, the column labeled `'Unnamed: 0'` appears to be redundant for our purposes. It seems to simply repeat the [index of the instance](http://pandas.pydata.org/pandas-docs/stable/indexing.html). It is not necessary to keep `Unnamed: 0`, because this information can be obtained from using the code `df.index.values`. So let's delete the first column:\n",
    "\n",
    "**Run** the cell below to delete the column `'Unnamed: 0'` from the `DataFrame` object `df`. Then, display the first few lines of the data frame to see what it looks like without `'Unnamed: 0'`\n"
   ]
  },
  {
   "cell_type": "code",
   "execution_count": 7,
   "metadata": {
    "collapsed": false
   },
   "outputs": [
    {
     "name": "stdout",
     "output_type": "stream",
     "text": [
      "Deleted the column 'Unnamed: 0' from df!\n"
     ]
    },
    {
     "data": {
      "text/html": [
       "<div>\n",
       "<table border=\"1\" class=\"dataframe\">\n",
       "  <thead>\n",
       "    <tr style=\"text-align: right;\">\n",
       "      <th></th>\n",
       "      <th>amt_pledged</th>\n",
       "      <th>blurb</th>\n",
       "      <th>by</th>\n",
       "      <th>category</th>\n",
       "      <th>currency</th>\n",
       "      <th>goal</th>\n",
       "      <th>location</th>\n",
       "      <th>num_backers</th>\n",
       "      <th>num_backers_tier</th>\n",
       "      <th>pledge_tier</th>\n",
       "      <th>title</th>\n",
       "      <th>url</th>\n",
       "    </tr>\n",
       "  </thead>\n",
       "  <tbody>\n",
       "    <tr>\n",
       "      <th>0</th>\n",
       "      <td>8782571</td>\n",
       "      <td>\\nThis is a card game for people who are into ...</td>\n",
       "      <td>Elan Lee</td>\n",
       "      <td>Tabletop Games</td>\n",
       "      <td>usd</td>\n",
       "      <td>10000</td>\n",
       "      <td>Los Angeles, CA</td>\n",
       "      <td>219382</td>\n",
       "      <td>[15505, 202934, 200, 5]</td>\n",
       "      <td>[20.0, 35.0, 100.0, 500.0]</td>\n",
       "      <td>Exploding Kittens</td>\n",
       "      <td>/projects/elanlee/exploding-kittens</td>\n",
       "    </tr>\n",
       "    <tr>\n",
       "      <th>1</th>\n",
       "      <td>6465690</td>\n",
       "      <td>\\nAn unusually addicting, high-quality desk to...</td>\n",
       "      <td>Matthew and Mark McLachlan</td>\n",
       "      <td>Product Design</td>\n",
       "      <td>usd</td>\n",
       "      <td>15000</td>\n",
       "      <td>Denver, CO</td>\n",
       "      <td>154926</td>\n",
       "      <td>[788, 250, 43073, 21796, 41727, 21627, 12215, ...</td>\n",
       "      <td>[1.0, 14.0, 19.0, 19.0, 35.0, 35.0, 79.0, 79.0...</td>\n",
       "      <td>Fidget Cube: A Vinyl Desk Toy</td>\n",
       "      <td>/projects/antsylabs/fidget-cube-a-vinyl-desk-toy</td>\n",
       "    </tr>\n",
       "    <tr>\n",
       "      <th>2</th>\n",
       "      <td>5408916</td>\n",
       "      <td>\\nBring Reading Rainbow’s library of interacti...</td>\n",
       "      <td>LeVar Burton &amp; Reading Rainbow</td>\n",
       "      <td>Web</td>\n",
       "      <td>usd</td>\n",
       "      <td>1000000</td>\n",
       "      <td>Los Angeles, CA</td>\n",
       "      <td>105857</td>\n",
       "      <td>[19639, 14343, 9136, 2259, 5666, 24512, 4957, ...</td>\n",
       "      <td>[5.0, 10.0, 25.0, 30.0, 35.0, 50.0, 75.0, 100....</td>\n",
       "      <td>Bring Reading Rainbow Back for Every Child, Ev...</td>\n",
       "      <td>/projects/readingrainbow/bring-reading-rainbow...</td>\n",
       "    </tr>\n",
       "    <tr>\n",
       "      <th>3</th>\n",
       "      <td>5702153</td>\n",
       "      <td>\\nUPDATED: This is it. We're making a Veronica...</td>\n",
       "      <td>Rob Thomas</td>\n",
       "      <td>Narrative Film</td>\n",
       "      <td>usd</td>\n",
       "      <td>2000000</td>\n",
       "      <td>San Diego, CA</td>\n",
       "      <td>91585</td>\n",
       "      <td>[5938, 8423, 11509, 22997, 23227, 1865, 7260, ...</td>\n",
       "      <td>[1.0, 10.0, 25.0, 35.0, 50.0, 75.0, 100.0, 150...</td>\n",
       "      <td>The Veronica Mars Movie Project</td>\n",
       "      <td>/projects/559914737/the-veronica-mars-movie-pr...</td>\n",
       "    </tr>\n",
       "    <tr>\n",
       "      <th>4</th>\n",
       "      <td>3336371</td>\n",
       "      <td>\\nAn adventure game from Tim Schafer, Double F...</td>\n",
       "      <td>Double Fine and 2 Player Productions</td>\n",
       "      <td>Video Games</td>\n",
       "      <td>usd</td>\n",
       "      <td>400000</td>\n",
       "      <td>San Francisco, CA</td>\n",
       "      <td>87142</td>\n",
       "      <td>[47946, 24636, 1090, 11530, 900, 148, 100, 10, 4]</td>\n",
       "      <td>[15.0, 30.0, 60.0, 100.0, 250.0, 500.0, 1000.0...</td>\n",
       "      <td>Double Fine Adventure</td>\n",
       "      <td>/projects/doublefine/double-fine-adventure</td>\n",
       "    </tr>\n",
       "  </tbody>\n",
       "</table>\n",
       "</div>"
      ],
      "text/plain": [
       "   amt_pledged                                              blurb  \\\n",
       "0      8782571  \\nThis is a card game for people who are into ...   \n",
       "1      6465690  \\nAn unusually addicting, high-quality desk to...   \n",
       "2      5408916  \\nBring Reading Rainbow’s library of interacti...   \n",
       "3      5702153  \\nUPDATED: This is it. We're making a Veronica...   \n",
       "4      3336371  \\nAn adventure game from Tim Schafer, Double F...   \n",
       "\n",
       "                                     by        category currency     goal  \\\n",
       "0                              Elan Lee  Tabletop Games      usd    10000   \n",
       "1            Matthew and Mark McLachlan  Product Design      usd    15000   \n",
       "2        LeVar Burton & Reading Rainbow             Web      usd  1000000   \n",
       "3                            Rob Thomas  Narrative Film      usd  2000000   \n",
       "4  Double Fine and 2 Player Productions     Video Games      usd   400000   \n",
       "\n",
       "            location  num_backers  \\\n",
       "0    Los Angeles, CA       219382   \n",
       "1         Denver, CO       154926   \n",
       "2    Los Angeles, CA       105857   \n",
       "3      San Diego, CA        91585   \n",
       "4  San Francisco, CA        87142   \n",
       "\n",
       "                                    num_backers_tier  \\\n",
       "0                            [15505, 202934, 200, 5]   \n",
       "1  [788, 250, 43073, 21796, 41727, 21627, 12215, ...   \n",
       "2  [19639, 14343, 9136, 2259, 5666, 24512, 4957, ...   \n",
       "3  [5938, 8423, 11509, 22997, 23227, 1865, 7260, ...   \n",
       "4  [47946, 24636, 1090, 11530, 900, 148, 100, 10, 4]   \n",
       "\n",
       "                                         pledge_tier  \\\n",
       "0                         [20.0, 35.0, 100.0, 500.0]   \n",
       "1  [1.0, 14.0, 19.0, 19.0, 35.0, 35.0, 79.0, 79.0...   \n",
       "2  [5.0, 10.0, 25.0, 30.0, 35.0, 50.0, 75.0, 100....   \n",
       "3  [1.0, 10.0, 25.0, 35.0, 50.0, 75.0, 100.0, 150...   \n",
       "4  [15.0, 30.0, 60.0, 100.0, 250.0, 500.0, 1000.0...   \n",
       "\n",
       "                                               title  \\\n",
       "0                                  Exploding Kittens   \n",
       "1                      Fidget Cube: A Vinyl Desk Toy   \n",
       "2  Bring Reading Rainbow Back for Every Child, Ev...   \n",
       "3                    The Veronica Mars Movie Project   \n",
       "4                              Double Fine Adventure   \n",
       "\n",
       "                                                 url  \n",
       "0                /projects/elanlee/exploding-kittens  \n",
       "1   /projects/antsylabs/fidget-cube-a-vinyl-desk-toy  \n",
       "2  /projects/readingrainbow/bring-reading-rainbow...  \n",
       "3  /projects/559914737/the-veronica-mars-movie-pr...  \n",
       "4         /projects/doublefine/double-fine-adventure  "
      ]
     },
     "metadata": {},
     "output_type": "display_data"
    }
   ],
   "source": [
    "if 'Unnamed: 0' in df.columns:\n",
    "    del df['Unnamed: 0']\n",
    "    print(\"Deleted the column 'Unnamed: 0' from df!\")\n",
    "else:\n",
    "    print(\"The column 'Unnamed: 0' has already been deleted!\")\n",
    "display(df.head(5))"
   ]
  },
  {
   "cell_type": "markdown",
   "metadata": {},
   "source": [
    "## Indexing `DataFrame` and `Series` objects\n",
    "On the leftmost edge of the `DataFrame`, we can see the index. Each row (instance, input) in the `DataFrame` has an index. To access a specific row based on the index, we can use `loc` or `iloc`. Label-based indexing is done with `loc`, while integer-position based indexing is done with `iloc`. For example, looking above, we can see that the first row in the `DataFrame` contains the \"category\" Tabletop Games . Let's get the first row (index 0) using `loc`!\n",
    "\n",
    "**Run** the cell below to get the first row of the `DataFrame` using `df.loc[0]`. What does the result look like?"
   ]
  },
  {
   "cell_type": "code",
   "execution_count": 8,
   "metadata": {
    "collapsed": false
   },
   "outputs": [
    {
     "data": {
      "text/plain": [
       "amt_pledged                                                   8782571\n",
       "blurb               \\nThis is a card game for people who are into ...\n",
       "by                                                           Elan Lee\n",
       "category                                               Tabletop Games\n",
       "currency                                                          usd\n",
       "                                          ...                        \n",
       "num_backers                                                    219382\n",
       "num_backers_tier                              [15505, 202934, 200, 5]\n",
       "pledge_tier                                [20.0, 35.0, 100.0, 500.0]\n",
       "title                                               Exploding Kittens\n",
       "url                               /projects/elanlee/exploding-kittens\n",
       "Name: 0, dtype: object"
      ]
     },
     "execution_count": 8,
     "metadata": {},
     "output_type": "execute_result"
    }
   ],
   "source": [
    "df.loc[0]"
   ]
  },
  {
   "cell_type": "markdown",
   "metadata": {},
   "source": [
    "The result doesn't look like a DataFrame! That's because one-dimensional objects in `pandas` are `Series` objects. `Series` objects are displayed as columns, with the indices shown on the left and the values shown on the right. Below the `Series` object, we see the name of the `Series` object and the `dtype` or data type of the `Series` object. The `dtype` of a `Series` object is chosen to accommodate all data within the `Series`.\n",
    "\n",
    "What if we don't want the entire first row of the DataFrame, but just the `amt_pledged`?\n",
    "\n",
    "**Run** the cell below to see one way to get the `amt_pledged` from the first row:"
   ]
  },
  {
   "cell_type": "code",
   "execution_count": 9,
   "metadata": {
    "collapsed": false
   },
   "outputs": [
    {
     "data": {
      "text/plain": [
       "8782571"
      ]
     },
     "execution_count": 9,
     "metadata": {},
     "output_type": "execute_result"
    }
   ],
   "source": [
    "df.loc[0,'amt_pledged']"
   ]
  },
  {
   "cell_type": "markdown",
   "metadata": {},
   "source": [
    "`'8782571'` should have been displayed. There are a variety of different methods for retrieving `amt_pledged` from the first row of the `DataFrame`.\n",
    "\n",
    "**Run** the cells below to see many other ways to get the same `amt_pledged` from the first row of the `DataFrame`. Do you understand how each line works?"
   ]
  },
  {
   "cell_type": "code",
   "execution_count": 10,
   "metadata": {
    "collapsed": false
   },
   "outputs": [
    {
     "data": {
      "text/plain": [
       "8782571"
      ]
     },
     "execution_count": 10,
     "metadata": {},
     "output_type": "execute_result"
    }
   ],
   "source": [
    "df.iloc[0,0]"
   ]
  },
  {
   "cell_type": "code",
   "execution_count": 11,
   "metadata": {
    "collapsed": false
   },
   "outputs": [
    {
     "data": {
      "text/plain": [
       "8782571"
      ]
     },
     "execution_count": 11,
     "metadata": {},
     "output_type": "execute_result"
    }
   ],
   "source": [
    "df.loc[0].loc['amt_pledged']"
   ]
  },
  {
   "cell_type": "code",
   "execution_count": 12,
   "metadata": {
    "collapsed": false
   },
   "outputs": [
    {
     "data": {
      "text/plain": [
       "8782571"
      ]
     },
     "execution_count": 12,
     "metadata": {},
     "output_type": "execute_result"
    }
   ],
   "source": [
    "df['amt_pledged'][0]"
   ]
  },
  {
   "cell_type": "code",
   "execution_count": 13,
   "metadata": {
    "collapsed": false
   },
   "outputs": [
    {
     "data": {
      "text/plain": [
       "8782571"
      ]
     },
     "execution_count": 13,
     "metadata": {},
     "output_type": "execute_result"
    }
   ],
   "source": [
    "df.iloc[0].iloc[0]"
   ]
  },
  {
   "cell_type": "code",
   "execution_count": 14,
   "metadata": {
    "collapsed": false
   },
   "outputs": [
    {
     "data": {
      "text/plain": [
       "8782571"
      ]
     },
     "execution_count": 14,
     "metadata": {},
     "output_type": "execute_result"
    }
   ],
   "source": [
    "df['amt_pledged'].loc[0]"
   ]
  },
  {
   "cell_type": "markdown",
   "metadata": {},
   "source": [
    "We are also able to retrieve multiple rows from the `DataFrame` by doing `numpy`-like slicing: `df.iloc[lower:upper]` will take a slice of the `DataFrame` object from the lower bound `lower` up to (but not including) the upper bound `upper`\n",
    "\n",
    "It's important to note that we get different results by slicing the `DataFrame` with `loc` and with `iloc`.\n",
    "\n",
    "When slicing a `DataFrame` using `iloc` (the *integer-based* position indexing) the lower bound is included, while the upper bound is excluded.\n",
    "\n",
    "**Run** the cell below to get the first three rows of the `DataFrame` using `df.iloc[0:3]`"
   ]
  },
  {
   "cell_type": "code",
   "execution_count": 15,
   "metadata": {
    "collapsed": false
   },
   "outputs": [
    {
     "data": {
      "text/html": [
       "<div>\n",
       "<table border=\"1\" class=\"dataframe\">\n",
       "  <thead>\n",
       "    <tr style=\"text-align: right;\">\n",
       "      <th></th>\n",
       "      <th>amt_pledged</th>\n",
       "      <th>blurb</th>\n",
       "      <th>by</th>\n",
       "      <th>category</th>\n",
       "      <th>currency</th>\n",
       "      <th>goal</th>\n",
       "      <th>location</th>\n",
       "      <th>num_backers</th>\n",
       "      <th>num_backers_tier</th>\n",
       "      <th>pledge_tier</th>\n",
       "      <th>title</th>\n",
       "      <th>url</th>\n",
       "    </tr>\n",
       "  </thead>\n",
       "  <tbody>\n",
       "    <tr>\n",
       "      <th>0</th>\n",
       "      <td>8782571</td>\n",
       "      <td>\\nThis is a card game for people who are into ...</td>\n",
       "      <td>Elan Lee</td>\n",
       "      <td>Tabletop Games</td>\n",
       "      <td>usd</td>\n",
       "      <td>10000</td>\n",
       "      <td>Los Angeles, CA</td>\n",
       "      <td>219382</td>\n",
       "      <td>[15505, 202934, 200, 5]</td>\n",
       "      <td>[20.0, 35.0, 100.0, 500.0]</td>\n",
       "      <td>Exploding Kittens</td>\n",
       "      <td>/projects/elanlee/exploding-kittens</td>\n",
       "    </tr>\n",
       "    <tr>\n",
       "      <th>1</th>\n",
       "      <td>6465690</td>\n",
       "      <td>\\nAn unusually addicting, high-quality desk to...</td>\n",
       "      <td>Matthew and Mark McLachlan</td>\n",
       "      <td>Product Design</td>\n",
       "      <td>usd</td>\n",
       "      <td>15000</td>\n",
       "      <td>Denver, CO</td>\n",
       "      <td>154926</td>\n",
       "      <td>[788, 250, 43073, 21796, 41727, 21627, 12215, ...</td>\n",
       "      <td>[1.0, 14.0, 19.0, 19.0, 35.0, 35.0, 79.0, 79.0...</td>\n",
       "      <td>Fidget Cube: A Vinyl Desk Toy</td>\n",
       "      <td>/projects/antsylabs/fidget-cube-a-vinyl-desk-toy</td>\n",
       "    </tr>\n",
       "    <tr>\n",
       "      <th>2</th>\n",
       "      <td>5408916</td>\n",
       "      <td>\\nBring Reading Rainbow’s library of interacti...</td>\n",
       "      <td>LeVar Burton &amp; Reading Rainbow</td>\n",
       "      <td>Web</td>\n",
       "      <td>usd</td>\n",
       "      <td>1000000</td>\n",
       "      <td>Los Angeles, CA</td>\n",
       "      <td>105857</td>\n",
       "      <td>[19639, 14343, 9136, 2259, 5666, 24512, 4957, ...</td>\n",
       "      <td>[5.0, 10.0, 25.0, 30.0, 35.0, 50.0, 75.0, 100....</td>\n",
       "      <td>Bring Reading Rainbow Back for Every Child, Ev...</td>\n",
       "      <td>/projects/readingrainbow/bring-reading-rainbow...</td>\n",
       "    </tr>\n",
       "  </tbody>\n",
       "</table>\n",
       "</div>"
      ],
      "text/plain": [
       "   amt_pledged                                              blurb  \\\n",
       "0      8782571  \\nThis is a card game for people who are into ...   \n",
       "1      6465690  \\nAn unusually addicting, high-quality desk to...   \n",
       "2      5408916  \\nBring Reading Rainbow’s library of interacti...   \n",
       "\n",
       "                               by        category currency     goal  \\\n",
       "0                        Elan Lee  Tabletop Games      usd    10000   \n",
       "1      Matthew and Mark McLachlan  Product Design      usd    15000   \n",
       "2  LeVar Burton & Reading Rainbow             Web      usd  1000000   \n",
       "\n",
       "          location  num_backers  \\\n",
       "0  Los Angeles, CA       219382   \n",
       "1       Denver, CO       154926   \n",
       "2  Los Angeles, CA       105857   \n",
       "\n",
       "                                    num_backers_tier  \\\n",
       "0                            [15505, 202934, 200, 5]   \n",
       "1  [788, 250, 43073, 21796, 41727, 21627, 12215, ...   \n",
       "2  [19639, 14343, 9136, 2259, 5666, 24512, 4957, ...   \n",
       "\n",
       "                                         pledge_tier  \\\n",
       "0                         [20.0, 35.0, 100.0, 500.0]   \n",
       "1  [1.0, 14.0, 19.0, 19.0, 35.0, 35.0, 79.0, 79.0...   \n",
       "2  [5.0, 10.0, 25.0, 30.0, 35.0, 50.0, 75.0, 100....   \n",
       "\n",
       "                                               title  \\\n",
       "0                                  Exploding Kittens   \n",
       "1                      Fidget Cube: A Vinyl Desk Toy   \n",
       "2  Bring Reading Rainbow Back for Every Child, Ev...   \n",
       "\n",
       "                                                 url  \n",
       "0                /projects/elanlee/exploding-kittens  \n",
       "1   /projects/antsylabs/fidget-cube-a-vinyl-desk-toy  \n",
       "2  /projects/readingrainbow/bring-reading-rainbow...  "
      ]
     },
     "execution_count": 15,
     "metadata": {},
     "output_type": "execute_result"
    }
   ],
   "source": [
    "df.iloc[0:3]"
   ]
  },
  {
   "cell_type": "markdown",
   "metadata": {},
   "source": [
    "The lower bound (0) is *included*, while the upper bound (3) is *excluded*.\n",
    "\n",
    "However, when slicing a `DataFrame` using `loc` (the *label-based* indexing), the starting and upper bounds are **both** included!\n",
    "\n",
    "**Run** the cell below to see what happens when we call `df.loc[0:3]`"
   ]
  },
  {
   "cell_type": "code",
   "execution_count": 16,
   "metadata": {
    "collapsed": false
   },
   "outputs": [
    {
     "data": {
      "text/html": [
       "<div>\n",
       "<table border=\"1\" class=\"dataframe\">\n",
       "  <thead>\n",
       "    <tr style=\"text-align: right;\">\n",
       "      <th></th>\n",
       "      <th>amt_pledged</th>\n",
       "      <th>blurb</th>\n",
       "      <th>by</th>\n",
       "      <th>category</th>\n",
       "      <th>currency</th>\n",
       "      <th>goal</th>\n",
       "      <th>location</th>\n",
       "      <th>num_backers</th>\n",
       "      <th>num_backers_tier</th>\n",
       "      <th>pledge_tier</th>\n",
       "      <th>title</th>\n",
       "      <th>url</th>\n",
       "    </tr>\n",
       "  </thead>\n",
       "  <tbody>\n",
       "    <tr>\n",
       "      <th>0</th>\n",
       "      <td>8782571</td>\n",
       "      <td>\\nThis is a card game for people who are into ...</td>\n",
       "      <td>Elan Lee</td>\n",
       "      <td>Tabletop Games</td>\n",
       "      <td>usd</td>\n",
       "      <td>10000</td>\n",
       "      <td>Los Angeles, CA</td>\n",
       "      <td>219382</td>\n",
       "      <td>[15505, 202934, 200, 5]</td>\n",
       "      <td>[20.0, 35.0, 100.0, 500.0]</td>\n",
       "      <td>Exploding Kittens</td>\n",
       "      <td>/projects/elanlee/exploding-kittens</td>\n",
       "    </tr>\n",
       "    <tr>\n",
       "      <th>1</th>\n",
       "      <td>6465690</td>\n",
       "      <td>\\nAn unusually addicting, high-quality desk to...</td>\n",
       "      <td>Matthew and Mark McLachlan</td>\n",
       "      <td>Product Design</td>\n",
       "      <td>usd</td>\n",
       "      <td>15000</td>\n",
       "      <td>Denver, CO</td>\n",
       "      <td>154926</td>\n",
       "      <td>[788, 250, 43073, 21796, 41727, 21627, 12215, ...</td>\n",
       "      <td>[1.0, 14.0, 19.0, 19.0, 35.0, 35.0, 79.0, 79.0...</td>\n",
       "      <td>Fidget Cube: A Vinyl Desk Toy</td>\n",
       "      <td>/projects/antsylabs/fidget-cube-a-vinyl-desk-toy</td>\n",
       "    </tr>\n",
       "    <tr>\n",
       "      <th>2</th>\n",
       "      <td>5408916</td>\n",
       "      <td>\\nBring Reading Rainbow’s library of interacti...</td>\n",
       "      <td>LeVar Burton &amp; Reading Rainbow</td>\n",
       "      <td>Web</td>\n",
       "      <td>usd</td>\n",
       "      <td>1000000</td>\n",
       "      <td>Los Angeles, CA</td>\n",
       "      <td>105857</td>\n",
       "      <td>[19639, 14343, 9136, 2259, 5666, 24512, 4957, ...</td>\n",
       "      <td>[5.0, 10.0, 25.0, 30.0, 35.0, 50.0, 75.0, 100....</td>\n",
       "      <td>Bring Reading Rainbow Back for Every Child, Ev...</td>\n",
       "      <td>/projects/readingrainbow/bring-reading-rainbow...</td>\n",
       "    </tr>\n",
       "    <tr>\n",
       "      <th>3</th>\n",
       "      <td>5702153</td>\n",
       "      <td>\\nUPDATED: This is it. We're making a Veronica...</td>\n",
       "      <td>Rob Thomas</td>\n",
       "      <td>Narrative Film</td>\n",
       "      <td>usd</td>\n",
       "      <td>2000000</td>\n",
       "      <td>San Diego, CA</td>\n",
       "      <td>91585</td>\n",
       "      <td>[5938, 8423, 11509, 22997, 23227, 1865, 7260, ...</td>\n",
       "      <td>[1.0, 10.0, 25.0, 35.0, 50.0, 75.0, 100.0, 150...</td>\n",
       "      <td>The Veronica Mars Movie Project</td>\n",
       "      <td>/projects/559914737/the-veronica-mars-movie-pr...</td>\n",
       "    </tr>\n",
       "  </tbody>\n",
       "</table>\n",
       "</div>"
      ],
      "text/plain": [
       "   amt_pledged                                              blurb  \\\n",
       "0      8782571  \\nThis is a card game for people who are into ...   \n",
       "1      6465690  \\nAn unusually addicting, high-quality desk to...   \n",
       "2      5408916  \\nBring Reading Rainbow’s library of interacti...   \n",
       "3      5702153  \\nUPDATED: This is it. We're making a Veronica...   \n",
       "\n",
       "                               by        category currency     goal  \\\n",
       "0                        Elan Lee  Tabletop Games      usd    10000   \n",
       "1      Matthew and Mark McLachlan  Product Design      usd    15000   \n",
       "2  LeVar Burton & Reading Rainbow             Web      usd  1000000   \n",
       "3                      Rob Thomas  Narrative Film      usd  2000000   \n",
       "\n",
       "          location  num_backers  \\\n",
       "0  Los Angeles, CA       219382   \n",
       "1       Denver, CO       154926   \n",
       "2  Los Angeles, CA       105857   \n",
       "3    San Diego, CA        91585   \n",
       "\n",
       "                                    num_backers_tier  \\\n",
       "0                            [15505, 202934, 200, 5]   \n",
       "1  [788, 250, 43073, 21796, 41727, 21627, 12215, ...   \n",
       "2  [19639, 14343, 9136, 2259, 5666, 24512, 4957, ...   \n",
       "3  [5938, 8423, 11509, 22997, 23227, 1865, 7260, ...   \n",
       "\n",
       "                                         pledge_tier  \\\n",
       "0                         [20.0, 35.0, 100.0, 500.0]   \n",
       "1  [1.0, 14.0, 19.0, 19.0, 35.0, 35.0, 79.0, 79.0...   \n",
       "2  [5.0, 10.0, 25.0, 30.0, 35.0, 50.0, 75.0, 100....   \n",
       "3  [1.0, 10.0, 25.0, 35.0, 50.0, 75.0, 100.0, 150...   \n",
       "\n",
       "                                               title  \\\n",
       "0                                  Exploding Kittens   \n",
       "1                      Fidget Cube: A Vinyl Desk Toy   \n",
       "2  Bring Reading Rainbow Back for Every Child, Ev...   \n",
       "3                    The Veronica Mars Movie Project   \n",
       "\n",
       "                                                 url  \n",
       "0                /projects/elanlee/exploding-kittens  \n",
       "1   /projects/antsylabs/fidget-cube-a-vinyl-desk-toy  \n",
       "2  /projects/readingrainbow/bring-reading-rainbow...  \n",
       "3  /projects/559914737/the-veronica-mars-movie-pr...  "
      ]
     },
     "execution_count": 16,
     "metadata": {},
     "output_type": "execute_result"
    }
   ],
   "source": [
    "df.loc[0:3]"
   ]
  },
  {
   "cell_type": "markdown",
   "metadata": {},
   "source": [
    "Note that both the lower bound (0) and the upper bound (3) are *included* with *label-based* indexing."
   ]
  },
  {
   "cell_type": "markdown",
   "metadata": {},
   "source": [
    "# Exercises - Part 1\n",
    "Now it's time to use your `pandas` knowledge to answer questions about the most_backed data set. If you're uncertain how to do something, please feel free to ask questions, refer to the code examples above or review the `pandas` documentation. \n",
    "\n",
    "For this section, the `pandas` documentation on [indexing and slicing](http://pandas.pydata.org/pandas-docs/stable/indexing.html) will be very helpful."
   ]
  },
  {
   "cell_type": "markdown",
   "metadata": {},
   "source": [
    "## Question 1 \n",
    "What is the `'location'` of the project in the row with index 250? "
   ]
  },
  {
   "cell_type": "code",
   "execution_count": 17,
   "metadata": {
    "collapsed": false
   },
   "outputs": [
    {
     "data": {
      "text/plain": [
       "'San Jose, CA'"
      ]
     },
     "execution_count": 17,
     "metadata": {},
     "output_type": "execute_result"
    }
   ],
   "source": [
    "df.loc[250,'location']"
   ]
  },
  {
   "cell_type": "markdown",
   "metadata": {},
   "source": [
    "## Question 2\n",
    "What is the `'category'` of the project in the row with index 1000? "
   ]
  },
  {
   "cell_type": "code",
   "execution_count": 18,
   "metadata": {
    "collapsed": false
   },
   "outputs": [
    {
     "data": {
      "text/plain": [
       "'Product Design'"
      ]
     },
     "execution_count": 18,
     "metadata": {},
     "output_type": "execute_result"
    }
   ],
   "source": [
    "df.iloc[1000,3]"
   ]
  },
  {
   "cell_type": "markdown",
   "metadata": {},
   "source": [
    "## Question 3\n",
    "Display rows 100 up to (but not including) 105."
   ]
  },
  {
   "cell_type": "code",
   "execution_count": 19,
   "metadata": {
    "collapsed": false,
    "scrolled": true
   },
   "outputs": [
    {
     "data": {
      "text/html": [
       "<div>\n",
       "<table border=\"1\" class=\"dataframe\">\n",
       "  <thead>\n",
       "    <tr style=\"text-align: right;\">\n",
       "      <th></th>\n",
       "      <th>amt_pledged</th>\n",
       "      <th>blurb</th>\n",
       "      <th>by</th>\n",
       "      <th>category</th>\n",
       "      <th>currency</th>\n",
       "      <th>goal</th>\n",
       "      <th>location</th>\n",
       "      <th>num_backers</th>\n",
       "      <th>num_backers_tier</th>\n",
       "      <th>pledge_tier</th>\n",
       "      <th>title</th>\n",
       "      <th>url</th>\n",
       "    </tr>\n",
       "  </thead>\n",
       "  <tbody>\n",
       "    <tr>\n",
       "      <th>500</th>\n",
       "      <td>668721</td>\n",
       "      <td>\\nDiscover the Collector's Edition of TOKAIDO:...</td>\n",
       "      <td>Funforge LLC</td>\n",
       "      <td>Tabletop Games</td>\n",
       "      <td>usd</td>\n",
       "      <td>40000</td>\n",
       "      <td>Las Vegas, NV</td>\n",
       "      <td>5434</td>\n",
       "      <td>[107, 96, 89, 88, 111, 12, 19, 150, 4048, 644,...</td>\n",
       "      <td>[45.0, 73.0, 74.0, 75.0, 85.0, 90.0, 90.0, 110...</td>\n",
       "      <td>TOKAIDO - COLLECTOR'S EDITION</td>\n",
       "      <td>/projects/funforge/tokaido-collectors-edition</td>\n",
       "    </tr>\n",
       "    <tr>\n",
       "      <th>501</th>\n",
       "      <td>375058</td>\n",
       "      <td>\\nPlants filter the water. It's the most beaut...</td>\n",
       "      <td>Aqua Design Innovations</td>\n",
       "      <td>Technology</td>\n",
       "      <td>usd</td>\n",
       "      <td>15000</td>\n",
       "      <td>San Diego, CA</td>\n",
       "      <td>5434</td>\n",
       "      <td>[285, 599, 2099, 898, 68, 659, 205, 2, 6, 254,...</td>\n",
       "      <td>[1.0, 39.0, 49.0, 59.0, 69.0, 78.0, 98.0, 98.0...</td>\n",
       "      <td>EcoQube C- Your Window to Nature!</td>\n",
       "      <td>/projects/kevinzl/ecoqube-c-your-window-to-nature</td>\n",
       "    </tr>\n",
       "    <tr>\n",
       "      <th>502</th>\n",
       "      <td>161897</td>\n",
       "      <td>\\nChargeCard is a USB cable that's thin enough...</td>\n",
       "      <td>Noah Dentzel + Adam Miller + Brian Hahn</td>\n",
       "      <td>Product Design</td>\n",
       "      <td>usd</td>\n",
       "      <td>50000</td>\n",
       "      <td>Hollywood, Los Angeles, CA</td>\n",
       "      <td>5428</td>\n",
       "      <td>[16, 500, 500, 1808, 319, 243, 686, 92, 170, 4...</td>\n",
       "      <td>[5.0, 18.0, 18.0, 20.0, 20.0, 30.0, 35.0, 35.0...</td>\n",
       "      <td>ChargeCard for iPhone and Android</td>\n",
       "      <td>/projects/nomad/chargecard-for-iphone</td>\n",
       "    </tr>\n",
       "    <tr>\n",
       "      <th>503</th>\n",
       "      <td>221833</td>\n",
       "      <td>\\nJoin the game designer of GRAW and Halo Reac...</td>\n",
       "      <td>Christian Allen, Serellan LLC</td>\n",
       "      <td>Video Games</td>\n",
       "      <td>usd</td>\n",
       "      <td>200000</td>\n",
       "      <td>Seattle, WA</td>\n",
       "      <td>5423</td>\n",
       "      <td>[2974, 1038, 441, 193, 243, 131, 138, 61, 13, ...</td>\n",
       "      <td>[15.0, 25.0, 50.0, 60.0, 75.0, 100.0, 125.0, 1...</td>\n",
       "      <td>TAKEDOWN</td>\n",
       "      <td>/projects/355932838/crowdsourced-hardcore-tact...</td>\n",
       "    </tr>\n",
       "    <tr>\n",
       "      <th>504</th>\n",
       "      <td>102430</td>\n",
       "      <td>\\nAn action RPG set in 1920s Massachusetts. Cr...</td>\n",
       "      <td>Inglenook</td>\n",
       "      <td>Video Games</td>\n",
       "      <td>gbp</td>\n",
       "      <td>50000</td>\n",
       "      <td>West Yorkshire, UK</td>\n",
       "      <td>5420</td>\n",
       "      <td>[2633, 490, 774, 373, 432, 178, 230, 35, 162, ...</td>\n",
       "      <td>[17.0, 25.0, 25.0, 25.0, 30.0, 50.0, 59.0, 84....</td>\n",
       "      <td>Witchmarsh</td>\n",
       "      <td>/projects/1027299776/witchmarsh</td>\n",
       "    </tr>\n",
       "  </tbody>\n",
       "</table>\n",
       "</div>"
      ],
      "text/plain": [
       "     amt_pledged                                              blurb  \\\n",
       "500       668721  \\nDiscover the Collector's Edition of TOKAIDO:...   \n",
       "501       375058  \\nPlants filter the water. It's the most beaut...   \n",
       "502       161897  \\nChargeCard is a USB cable that's thin enough...   \n",
       "503       221833  \\nJoin the game designer of GRAW and Halo Reac...   \n",
       "504       102430  \\nAn action RPG set in 1920s Massachusetts. Cr...   \n",
       "\n",
       "                                          by        category currency    goal  \\\n",
       "500                             Funforge LLC  Tabletop Games      usd   40000   \n",
       "501                  Aqua Design Innovations      Technology      usd   15000   \n",
       "502  Noah Dentzel + Adam Miller + Brian Hahn  Product Design      usd   50000   \n",
       "503            Christian Allen, Serellan LLC     Video Games      usd  200000   \n",
       "504                                Inglenook     Video Games      gbp   50000   \n",
       "\n",
       "                       location  num_backers  \\\n",
       "500               Las Vegas, NV         5434   \n",
       "501               San Diego, CA         5434   \n",
       "502  Hollywood, Los Angeles, CA         5428   \n",
       "503                 Seattle, WA         5423   \n",
       "504          West Yorkshire, UK         5420   \n",
       "\n",
       "                                      num_backers_tier  \\\n",
       "500  [107, 96, 89, 88, 111, 12, 19, 150, 4048, 644,...   \n",
       "501  [285, 599, 2099, 898, 68, 659, 205, 2, 6, 254,...   \n",
       "502  [16, 500, 500, 1808, 319, 243, 686, 92, 170, 4...   \n",
       "503  [2974, 1038, 441, 193, 243, 131, 138, 61, 13, ...   \n",
       "504  [2633, 490, 774, 373, 432, 178, 230, 35, 162, ...   \n",
       "\n",
       "                                           pledge_tier  \\\n",
       "500  [45.0, 73.0, 74.0, 75.0, 85.0, 90.0, 90.0, 110...   \n",
       "501  [1.0, 39.0, 49.0, 59.0, 69.0, 78.0, 98.0, 98.0...   \n",
       "502  [5.0, 18.0, 18.0, 20.0, 20.0, 30.0, 35.0, 35.0...   \n",
       "503  [15.0, 25.0, 50.0, 60.0, 75.0, 100.0, 125.0, 1...   \n",
       "504  [17.0, 25.0, 25.0, 25.0, 30.0, 50.0, 59.0, 84....   \n",
       "\n",
       "                                 title  \\\n",
       "500      TOKAIDO - COLLECTOR'S EDITION   \n",
       "501  EcoQube C- Your Window to Nature!   \n",
       "502  ChargeCard for iPhone and Android   \n",
       "503                           TAKEDOWN   \n",
       "504                         Witchmarsh   \n",
       "\n",
       "                                                   url  \n",
       "500      /projects/funforge/tokaido-collectors-edition  \n",
       "501  /projects/kevinzl/ecoqube-c-your-window-to-nature  \n",
       "502              /projects/nomad/chargecard-for-iphone  \n",
       "503  /projects/355932838/crowdsourced-hardcore-tact...  \n",
       "504                    /projects/1027299776/witchmarsh  "
      ]
     },
     "execution_count": 19,
     "metadata": {},
     "output_type": "execute_result"
    }
   ],
   "source": [
    "df.iloc[500:505]"
   ]
  },
  {
   "cell_type": "markdown",
   "metadata": {},
   "source": [
    "## Question 4:\n",
    "What does `df.iloc[0:100:10]` return? How would you describe integer-based slicing when there are three numbers in the square brackets?"
   ]
  },
  {
   "cell_type": "code",
   "execution_count": 20,
   "metadata": {
    "collapsed": false
   },
   "outputs": [
    {
     "data": {
      "text/html": [
       "<div>\n",
       "<table border=\"1\" class=\"dataframe\">\n",
       "  <thead>\n",
       "    <tr style=\"text-align: right;\">\n",
       "      <th></th>\n",
       "      <th>amt_pledged</th>\n",
       "      <th>blurb</th>\n",
       "      <th>by</th>\n",
       "      <th>category</th>\n",
       "      <th>currency</th>\n",
       "      <th>goal</th>\n",
       "      <th>location</th>\n",
       "      <th>num_backers</th>\n",
       "      <th>num_backers_tier</th>\n",
       "      <th>pledge_tier</th>\n",
       "      <th>title</th>\n",
       "      <th>url</th>\n",
       "    </tr>\n",
       "  </thead>\n",
       "  <tbody>\n",
       "    <tr>\n",
       "      <th>0</th>\n",
       "      <td>8782571</td>\n",
       "      <td>\\nThis is a card game for people who are into ...</td>\n",
       "      <td>Elan Lee</td>\n",
       "      <td>Tabletop Games</td>\n",
       "      <td>usd</td>\n",
       "      <td>10000</td>\n",
       "      <td>Los Angeles, CA</td>\n",
       "      <td>219382</td>\n",
       "      <td>[15505, 202934, 200, 5]</td>\n",
       "      <td>[20.0, 35.0, 100.0, 500.0]</td>\n",
       "      <td>Exploding Kittens</td>\n",
       "      <td>/projects/elanlee/exploding-kittens</td>\n",
       "    </tr>\n",
       "    <tr>\n",
       "      <th>10</th>\n",
       "      <td>6333295</td>\n",
       "      <td>\\nYu Suzuki presents the long awaited third in...</td>\n",
       "      <td>Ys Net</td>\n",
       "      <td>Video Games</td>\n",
       "      <td>usd</td>\n",
       "      <td>2000000</td>\n",
       "      <td>Tokyo, Japan</td>\n",
       "      <td>69320</td>\n",
       "      <td>[2251, 26238, 382, 4671, 14668, 2062, 6539, 17...</td>\n",
       "      <td>[5.0, 29.0, 39.0, 60.0, 60.0, 80.0, 100.0, 120...</td>\n",
       "      <td>Shenmue 3</td>\n",
       "      <td>/projects/ysnet/shenmue-3</td>\n",
       "    </tr>\n",
       "    <tr>\n",
       "      <th>20</th>\n",
       "      <td>3105473</td>\n",
       "      <td>\\n\"Hell, there are no rules here - we're tryin...</td>\n",
       "      <td>Zach Braff</td>\n",
       "      <td>Narrative Film</td>\n",
       "      <td>usd</td>\n",
       "      <td>2000000</td>\n",
       "      <td>Los Angeles, CA</td>\n",
       "      <td>46520</td>\n",
       "      <td>[9133, 6208, 5706, 9952, 2952, 254, 449, 500, ...</td>\n",
       "      <td>[10.0, 20.0, 30.0, 40.0, 60.0, 75.0, 100.0, 10...</td>\n",
       "      <td>WISH I WAS HERE</td>\n",
       "      <td>/projects/1869987317/wish-i-was-here-1</td>\n",
       "    </tr>\n",
       "    <tr>\n",
       "      <th>30</th>\n",
       "      <td>2134374</td>\n",
       "      <td>\\nReclaim the stars in the exciting new Space ...</td>\n",
       "      <td>Cloud Imperium Games Corporation</td>\n",
       "      <td>Video Games</td>\n",
       "      <td>usd</td>\n",
       "      <td>500000</td>\n",
       "      <td>Los Angeles, CA</td>\n",
       "      <td>34397</td>\n",
       "      <td>[2697, 163, 5000, 5000, 3000, 4966, 2010, 3541...</td>\n",
       "      <td>[5.0, 10.0, 30.0, 30.0, 35.0, 37.0, 40.0, 60.0...</td>\n",
       "      <td>Star Citizen</td>\n",
       "      <td>/projects/cig/star-citizen</td>\n",
       "    </tr>\n",
       "    <tr>\n",
       "      <th>40</th>\n",
       "      <td>6565782</td>\n",
       "      <td>\\nThe world's best everyday bags. Designed by ...</td>\n",
       "      <td>Peak Design</td>\n",
       "      <td>Product Design</td>\n",
       "      <td>usd</td>\n",
       "      <td>500000</td>\n",
       "      <td>San Francisco, CA</td>\n",
       "      <td>26359</td>\n",
       "      <td>[2967, 367, 2076, 187, 10011, 1627, 5422, 881,...</td>\n",
       "      <td>[115.0, 125.0, 145.0, 155.0, 189.0, 199.0, 219...</td>\n",
       "      <td>The Everyday Backpack, Tote, and Sling</td>\n",
       "      <td>/projects/peak-design/the-everyday-backpack-to...</td>\n",
       "    </tr>\n",
       "    <tr>\n",
       "      <th>50</th>\n",
       "      <td>1919275</td>\n",
       "      <td>\\nLord British returns to his fantasy RPG root...</td>\n",
       "      <td>Portalarium, Inc.</td>\n",
       "      <td>Video Games</td>\n",
       "      <td>usd</td>\n",
       "      <td>1000000</td>\n",
       "      <td>Austin, TX</td>\n",
       "      <td>22322</td>\n",
       "      <td>[88, 4989, 4990, 2513, 865, 1063, 1747, 53, 15...</td>\n",
       "      <td>[10.0, 25.0, 30.0, 33.0, 40.0, 50.0, 60.0, 80....</td>\n",
       "      <td>Shroud of the Avatar: Forsaken Virtues</td>\n",
       "      <td>/projects/portalarium/shroud-of-the-avatar-for...</td>\n",
       "    </tr>\n",
       "    <tr>\n",
       "      <th>60</th>\n",
       "      <td>590807</td>\n",
       "      <td>\\nWe are a team of multimedia reporters coveri...</td>\n",
       "      <td>Planet Money</td>\n",
       "      <td>Radio &amp;amp; Podcasts</td>\n",
       "      <td>usd</td>\n",
       "      <td>50000</td>\n",
       "      <td>New York, NY</td>\n",
       "      <td>20242</td>\n",
       "      <td>[20159]</td>\n",
       "      <td>[25.0]</td>\n",
       "      <td>Planet Money T-shirt</td>\n",
       "      <td>/projects/planetmoney/planet-money-t-shirt</td>\n",
       "    </tr>\n",
       "    <tr>\n",
       "      <th>70</th>\n",
       "      <td>974578</td>\n",
       "      <td>\\nA new adventure game made of clay. From the ...</td>\n",
       "      <td>Pencil Test Studios, Inc.</td>\n",
       "      <td>Video Games</td>\n",
       "      <td>usd</td>\n",
       "      <td>900000</td>\n",
       "      <td>Lake Forest, CA</td>\n",
       "      <td>18126</td>\n",
       "      <td>[587, 7000, 3389, 670, 836, 1070, 1097, 572, 4...</td>\n",
       "      <td>[5.0, 20.0, 25.0, 30.0, 35.0, 45.0, 50.0, 60.0...</td>\n",
       "      <td>Armikrog.</td>\n",
       "      <td>/projects/armikrog/armikrog</td>\n",
       "    </tr>\n",
       "    <tr>\n",
       "      <th>80</th>\n",
       "      <td>1766204</td>\n",
       "      <td>\\n\"It's like Game of Thrones meets EVE Online\"...</td>\n",
       "      <td>ArtCraft Entertainment, Inc.</td>\n",
       "      <td>Video Games</td>\n",
       "      <td>usd</td>\n",
       "      <td>800000</td>\n",
       "      <td>Austin, TX</td>\n",
       "      <td>16936</td>\n",
       "      <td>[286, 2999, 3999, 1881, 192, 2782, 847, 353, 6...</td>\n",
       "      <td>[5.0, 30.0, 34.0, 36.0, 40.0, 60.0, 100.0, 130...</td>\n",
       "      <td>Crowfall - Throne War PC MMO</td>\n",
       "      <td>/projects/crowfall/crowfall-throne-war-pc-mmo</td>\n",
       "    </tr>\n",
       "    <tr>\n",
       "      <th>90</th>\n",
       "      <td>3390551</td>\n",
       "      <td>\\nWorld's First Wireless Smart In Ear Headphon...</td>\n",
       "      <td>BRAGI LLC.</td>\n",
       "      <td>Product Design</td>\n",
       "      <td>usd</td>\n",
       "      <td>260000</td>\n",
       "      <td>Munich, Germany</td>\n",
       "      <td>15998</td>\n",
       "      <td>[400, 269, 1000, 8000, 4630, 1131, 209, 237, 5]</td>\n",
       "      <td>[2.0, 15.0, 179.0, 199.0, 199.0, 239.0, 299.0,...</td>\n",
       "      <td>The Dash \\u2013 Wireless Smart In Ear Headphones</td>\n",
       "      <td>/projects/hellobragi/the-dash-wireless-smart-i...</td>\n",
       "    </tr>\n",
       "  </tbody>\n",
       "</table>\n",
       "</div>"
      ],
      "text/plain": [
       "    amt_pledged                                              blurb  \\\n",
       "0       8782571  \\nThis is a card game for people who are into ...   \n",
       "10      6333295  \\nYu Suzuki presents the long awaited third in...   \n",
       "20      3105473  \\n\"Hell, there are no rules here - we're tryin...   \n",
       "30      2134374  \\nReclaim the stars in the exciting new Space ...   \n",
       "40      6565782  \\nThe world's best everyday bags. Designed by ...   \n",
       "50      1919275  \\nLord British returns to his fantasy RPG root...   \n",
       "60       590807  \\nWe are a team of multimedia reporters coveri...   \n",
       "70       974578  \\nA new adventure game made of clay. From the ...   \n",
       "80      1766204  \\n\"It's like Game of Thrones meets EVE Online\"...   \n",
       "90      3390551  \\nWorld's First Wireless Smart In Ear Headphon...   \n",
       "\n",
       "                                  by              category currency     goal  \\\n",
       "0                           Elan Lee        Tabletop Games      usd    10000   \n",
       "10                            Ys Net           Video Games      usd  2000000   \n",
       "20                        Zach Braff        Narrative Film      usd  2000000   \n",
       "30  Cloud Imperium Games Corporation           Video Games      usd   500000   \n",
       "40                       Peak Design        Product Design      usd   500000   \n",
       "50                 Portalarium, Inc.           Video Games      usd  1000000   \n",
       "60                      Planet Money  Radio &amp; Podcasts      usd    50000   \n",
       "70         Pencil Test Studios, Inc.           Video Games      usd   900000   \n",
       "80      ArtCraft Entertainment, Inc.           Video Games      usd   800000   \n",
       "90                        BRAGI LLC.        Product Design      usd   260000   \n",
       "\n",
       "             location  num_backers  \\\n",
       "0     Los Angeles, CA       219382   \n",
       "10       Tokyo, Japan        69320   \n",
       "20    Los Angeles, CA        46520   \n",
       "30    Los Angeles, CA        34397   \n",
       "40  San Francisco, CA        26359   \n",
       "50         Austin, TX        22322   \n",
       "60       New York, NY        20242   \n",
       "70    Lake Forest, CA        18126   \n",
       "80         Austin, TX        16936   \n",
       "90    Munich, Germany        15998   \n",
       "\n",
       "                                     num_backers_tier  \\\n",
       "0                             [15505, 202934, 200, 5]   \n",
       "10  [2251, 26238, 382, 4671, 14668, 2062, 6539, 17...   \n",
       "20  [9133, 6208, 5706, 9952, 2952, 254, 449, 500, ...   \n",
       "30  [2697, 163, 5000, 5000, 3000, 4966, 2010, 3541...   \n",
       "40  [2967, 367, 2076, 187, 10011, 1627, 5422, 881,...   \n",
       "50  [88, 4989, 4990, 2513, 865, 1063, 1747, 53, 15...   \n",
       "60                                            [20159]   \n",
       "70  [587, 7000, 3389, 670, 836, 1070, 1097, 572, 4...   \n",
       "80  [286, 2999, 3999, 1881, 192, 2782, 847, 353, 6...   \n",
       "90    [400, 269, 1000, 8000, 4630, 1131, 209, 237, 5]   \n",
       "\n",
       "                                          pledge_tier  \\\n",
       "0                          [20.0, 35.0, 100.0, 500.0]   \n",
       "10  [5.0, 29.0, 39.0, 60.0, 60.0, 80.0, 100.0, 120...   \n",
       "20  [10.0, 20.0, 30.0, 40.0, 60.0, 75.0, 100.0, 10...   \n",
       "30  [5.0, 10.0, 30.0, 30.0, 35.0, 37.0, 40.0, 60.0...   \n",
       "40  [115.0, 125.0, 145.0, 155.0, 189.0, 199.0, 219...   \n",
       "50  [10.0, 25.0, 30.0, 33.0, 40.0, 50.0, 60.0, 80....   \n",
       "60                                             [25.0]   \n",
       "70  [5.0, 20.0, 25.0, 30.0, 35.0, 45.0, 50.0, 60.0...   \n",
       "80  [5.0, 30.0, 34.0, 36.0, 40.0, 60.0, 100.0, 130...   \n",
       "90  [2.0, 15.0, 179.0, 199.0, 199.0, 239.0, 299.0,...   \n",
       "\n",
       "                                               title  \\\n",
       "0                                  Exploding Kittens   \n",
       "10                                         Shenmue 3   \n",
       "20                                   WISH I WAS HERE   \n",
       "30                                      Star Citizen   \n",
       "40            The Everyday Backpack, Tote, and Sling   \n",
       "50            Shroud of the Avatar: Forsaken Virtues   \n",
       "60                              Planet Money T-shirt   \n",
       "70                                         Armikrog.   \n",
       "80                      Crowfall - Throne War PC MMO   \n",
       "90  The Dash \\u2013 Wireless Smart In Ear Headphones   \n",
       "\n",
       "                                                  url  \n",
       "0                 /projects/elanlee/exploding-kittens  \n",
       "10                          /projects/ysnet/shenmue-3  \n",
       "20             /projects/1869987317/wish-i-was-here-1  \n",
       "30                         /projects/cig/star-citizen  \n",
       "40  /projects/peak-design/the-everyday-backpack-to...  \n",
       "50  /projects/portalarium/shroud-of-the-avatar-for...  \n",
       "60         /projects/planetmoney/planet-money-t-shirt  \n",
       "70                        /projects/armikrog/armikrog  \n",
       "80      /projects/crowfall/crowfall-throne-war-pc-mmo  \n",
       "90  /projects/hellobragi/the-dash-wireless-smart-i...  "
      ]
     },
     "execution_count": 20,
     "metadata": {},
     "output_type": "execute_result"
    }
   ],
   "source": [
    "df.iloc[0:100:10]"
   ]
  },
  {
   "cell_type": "markdown",
   "metadata": {},
   "source": [
    "## Question 5:\n",
    "What does `df.iloc[:8]` return? How would you describe integer-based slicing when no lower bound is specified?"
   ]
  },
  {
   "cell_type": "code",
   "execution_count": 21,
   "metadata": {
    "collapsed": false
   },
   "outputs": [
    {
     "data": {
      "text/html": [
       "<div>\n",
       "<table border=\"1\" class=\"dataframe\">\n",
       "  <thead>\n",
       "    <tr style=\"text-align: right;\">\n",
       "      <th></th>\n",
       "      <th>amt_pledged</th>\n",
       "      <th>blurb</th>\n",
       "      <th>by</th>\n",
       "      <th>category</th>\n",
       "      <th>currency</th>\n",
       "      <th>goal</th>\n",
       "      <th>location</th>\n",
       "      <th>num_backers</th>\n",
       "      <th>num_backers_tier</th>\n",
       "      <th>pledge_tier</th>\n",
       "      <th>title</th>\n",
       "      <th>url</th>\n",
       "    </tr>\n",
       "  </thead>\n",
       "  <tbody>\n",
       "    <tr>\n",
       "      <th>0</th>\n",
       "      <td>8782571</td>\n",
       "      <td>\\nThis is a card game for people who are into ...</td>\n",
       "      <td>Elan Lee</td>\n",
       "      <td>Tabletop Games</td>\n",
       "      <td>usd</td>\n",
       "      <td>10000</td>\n",
       "      <td>Los Angeles, CA</td>\n",
       "      <td>219382</td>\n",
       "      <td>[15505, 202934, 200, 5]</td>\n",
       "      <td>[20.0, 35.0, 100.0, 500.0]</td>\n",
       "      <td>Exploding Kittens</td>\n",
       "      <td>/projects/elanlee/exploding-kittens</td>\n",
       "    </tr>\n",
       "    <tr>\n",
       "      <th>1</th>\n",
       "      <td>6465690</td>\n",
       "      <td>\\nAn unusually addicting, high-quality desk to...</td>\n",
       "      <td>Matthew and Mark McLachlan</td>\n",
       "      <td>Product Design</td>\n",
       "      <td>usd</td>\n",
       "      <td>15000</td>\n",
       "      <td>Denver, CO</td>\n",
       "      <td>154926</td>\n",
       "      <td>[788, 250, 43073, 21796, 41727, 21627, 12215, ...</td>\n",
       "      <td>[1.0, 14.0, 19.0, 19.0, 35.0, 35.0, 79.0, 79.0...</td>\n",
       "      <td>Fidget Cube: A Vinyl Desk Toy</td>\n",
       "      <td>/projects/antsylabs/fidget-cube-a-vinyl-desk-toy</td>\n",
       "    </tr>\n",
       "    <tr>\n",
       "      <th>2</th>\n",
       "      <td>5408916</td>\n",
       "      <td>\\nBring Reading Rainbow’s library of interacti...</td>\n",
       "      <td>LeVar Burton &amp; Reading Rainbow</td>\n",
       "      <td>Web</td>\n",
       "      <td>usd</td>\n",
       "      <td>1000000</td>\n",
       "      <td>Los Angeles, CA</td>\n",
       "      <td>105857</td>\n",
       "      <td>[19639, 14343, 9136, 2259, 5666, 24512, 4957, ...</td>\n",
       "      <td>[5.0, 10.0, 25.0, 30.0, 35.0, 50.0, 75.0, 100....</td>\n",
       "      <td>Bring Reading Rainbow Back for Every Child, Ev...</td>\n",
       "      <td>/projects/readingrainbow/bring-reading-rainbow...</td>\n",
       "    </tr>\n",
       "    <tr>\n",
       "      <th>3</th>\n",
       "      <td>5702153</td>\n",
       "      <td>\\nUPDATED: This is it. We're making a Veronica...</td>\n",
       "      <td>Rob Thomas</td>\n",
       "      <td>Narrative Film</td>\n",
       "      <td>usd</td>\n",
       "      <td>2000000</td>\n",
       "      <td>San Diego, CA</td>\n",
       "      <td>91585</td>\n",
       "      <td>[5938, 8423, 11509, 22997, 23227, 1865, 7260, ...</td>\n",
       "      <td>[1.0, 10.0, 25.0, 35.0, 50.0, 75.0, 100.0, 150...</td>\n",
       "      <td>The Veronica Mars Movie Project</td>\n",
       "      <td>/projects/559914737/the-veronica-mars-movie-pr...</td>\n",
       "    </tr>\n",
       "    <tr>\n",
       "      <th>4</th>\n",
       "      <td>3336371</td>\n",
       "      <td>\\nAn adventure game from Tim Schafer, Double F...</td>\n",
       "      <td>Double Fine and 2 Player Productions</td>\n",
       "      <td>Video Games</td>\n",
       "      <td>usd</td>\n",
       "      <td>400000</td>\n",
       "      <td>San Francisco, CA</td>\n",
       "      <td>87142</td>\n",
       "      <td>[47946, 24636, 1090, 11530, 900, 148, 100, 10, 4]</td>\n",
       "      <td>[15.0, 30.0, 60.0, 100.0, 250.0, 500.0, 1000.0...</td>\n",
       "      <td>Double Fine Adventure</td>\n",
       "      <td>/projects/doublefine/double-fine-adventure</td>\n",
       "    </tr>\n",
       "    <tr>\n",
       "      <th>5</th>\n",
       "      <td>20338986</td>\n",
       "      <td>\\nColor e-paper smartwatch with up to 7 days o...</td>\n",
       "      <td>Pebble Technology</td>\n",
       "      <td>Product Design</td>\n",
       "      <td>usd</td>\n",
       "      <td>500000</td>\n",
       "      <td>Palo Alto, CA</td>\n",
       "      <td>78471</td>\n",
       "      <td>[10000, 22991, 5278, 19999, 6041, 4717, 4998, ...</td>\n",
       "      <td>[159.0, 179.0, 179.0, 250.0, 250.0, 338.0, 400...</td>\n",
       "      <td>Pebble Time - Awesome Smartwatch, No Compromises</td>\n",
       "      <td>/projects/597507018/pebble-time-awesome-smartw...</td>\n",
       "    </tr>\n",
       "    <tr>\n",
       "      <th>6</th>\n",
       "      <td>4188927</td>\n",
       "      <td>\\nA story-driven CRPG set in the world of Mont...</td>\n",
       "      <td>inXile entertainment</td>\n",
       "      <td>Video Games</td>\n",
       "      <td>usd</td>\n",
       "      <td>900000</td>\n",
       "      <td>Newport Beach, CA</td>\n",
       "      <td>74405</td>\n",
       "      <td>[317, 14992, 11711, 10995, 4303, 3503, 10271, ...</td>\n",
       "      <td>[5.0, 20.0, 25.0, 28.0, 35.0, 39.0, 45.0, 50.0...</td>\n",
       "      <td>Torment: Tides of Numenera</td>\n",
       "      <td>/projects/inxile/torment-tides-of-numenera</td>\n",
       "    </tr>\n",
       "    <tr>\n",
       "      <th>7</th>\n",
       "      <td>3986929</td>\n",
       "      <td>\\nPillars of Eternity is an isometric, party-b...</td>\n",
       "      <td>Obsidian Entertainment</td>\n",
       "      <td>Video Games</td>\n",
       "      <td>usd</td>\n",
       "      <td>1100000</td>\n",
       "      <td>Irvine, CA</td>\n",
       "      <td>73986</td>\n",
       "      <td>[317, 25000, 20921, 8394, 5727, 3818, 769, 104...</td>\n",
       "      <td>[5.0, 20.0, 25.0, 35.0, 50.0, 65.0, 80.0, 100....</td>\n",
       "      <td>Pillars of Eternity (formerly Project Eternity)</td>\n",
       "      <td>/projects/obsidian/project-eternity</td>\n",
       "    </tr>\n",
       "  </tbody>\n",
       "</table>\n",
       "</div>"
      ],
      "text/plain": [
       "   amt_pledged                                              blurb  \\\n",
       "0      8782571  \\nThis is a card game for people who are into ...   \n",
       "1      6465690  \\nAn unusually addicting, high-quality desk to...   \n",
       "2      5408916  \\nBring Reading Rainbow’s library of interacti...   \n",
       "3      5702153  \\nUPDATED: This is it. We're making a Veronica...   \n",
       "4      3336371  \\nAn adventure game from Tim Schafer, Double F...   \n",
       "5     20338986  \\nColor e-paper smartwatch with up to 7 days o...   \n",
       "6      4188927  \\nA story-driven CRPG set in the world of Mont...   \n",
       "7      3986929  \\nPillars of Eternity is an isometric, party-b...   \n",
       "\n",
       "                                     by        category currency     goal  \\\n",
       "0                              Elan Lee  Tabletop Games      usd    10000   \n",
       "1            Matthew and Mark McLachlan  Product Design      usd    15000   \n",
       "2        LeVar Burton & Reading Rainbow             Web      usd  1000000   \n",
       "3                            Rob Thomas  Narrative Film      usd  2000000   \n",
       "4  Double Fine and 2 Player Productions     Video Games      usd   400000   \n",
       "5                     Pebble Technology  Product Design      usd   500000   \n",
       "6                  inXile entertainment     Video Games      usd   900000   \n",
       "7                Obsidian Entertainment     Video Games      usd  1100000   \n",
       "\n",
       "            location  num_backers  \\\n",
       "0    Los Angeles, CA       219382   \n",
       "1         Denver, CO       154926   \n",
       "2    Los Angeles, CA       105857   \n",
       "3      San Diego, CA        91585   \n",
       "4  San Francisco, CA        87142   \n",
       "5      Palo Alto, CA        78471   \n",
       "6  Newport Beach, CA        74405   \n",
       "7         Irvine, CA        73986   \n",
       "\n",
       "                                    num_backers_tier  \\\n",
       "0                            [15505, 202934, 200, 5]   \n",
       "1  [788, 250, 43073, 21796, 41727, 21627, 12215, ...   \n",
       "2  [19639, 14343, 9136, 2259, 5666, 24512, 4957, ...   \n",
       "3  [5938, 8423, 11509, 22997, 23227, 1865, 7260, ...   \n",
       "4  [47946, 24636, 1090, 11530, 900, 148, 100, 10, 4]   \n",
       "5  [10000, 22991, 5278, 19999, 6041, 4717, 4998, ...   \n",
       "6  [317, 14992, 11711, 10995, 4303, 3503, 10271, ...   \n",
       "7  [317, 25000, 20921, 8394, 5727, 3818, 769, 104...   \n",
       "\n",
       "                                         pledge_tier  \\\n",
       "0                         [20.0, 35.0, 100.0, 500.0]   \n",
       "1  [1.0, 14.0, 19.0, 19.0, 35.0, 35.0, 79.0, 79.0...   \n",
       "2  [5.0, 10.0, 25.0, 30.0, 35.0, 50.0, 75.0, 100....   \n",
       "3  [1.0, 10.0, 25.0, 35.0, 50.0, 75.0, 100.0, 150...   \n",
       "4  [15.0, 30.0, 60.0, 100.0, 250.0, 500.0, 1000.0...   \n",
       "5  [159.0, 179.0, 179.0, 250.0, 250.0, 338.0, 400...   \n",
       "6  [5.0, 20.0, 25.0, 28.0, 35.0, 39.0, 45.0, 50.0...   \n",
       "7  [5.0, 20.0, 25.0, 35.0, 50.0, 65.0, 80.0, 100....   \n",
       "\n",
       "                                               title  \\\n",
       "0                                  Exploding Kittens   \n",
       "1                      Fidget Cube: A Vinyl Desk Toy   \n",
       "2  Bring Reading Rainbow Back for Every Child, Ev...   \n",
       "3                    The Veronica Mars Movie Project   \n",
       "4                              Double Fine Adventure   \n",
       "5   Pebble Time - Awesome Smartwatch, No Compromises   \n",
       "6                         Torment: Tides of Numenera   \n",
       "7    Pillars of Eternity (formerly Project Eternity)   \n",
       "\n",
       "                                                 url  \n",
       "0                /projects/elanlee/exploding-kittens  \n",
       "1   /projects/antsylabs/fidget-cube-a-vinyl-desk-toy  \n",
       "2  /projects/readingrainbow/bring-reading-rainbow...  \n",
       "3  /projects/559914737/the-veronica-mars-movie-pr...  \n",
       "4         /projects/doublefine/double-fine-adventure  \n",
       "5  /projects/597507018/pebble-time-awesome-smartw...  \n",
       "6         /projects/inxile/torment-tides-of-numenera  \n",
       "7                /projects/obsidian/project-eternity  "
      ]
     },
     "execution_count": 21,
     "metadata": {},
     "output_type": "execute_result"
    }
   ],
   "source": [
    "df.iloc[:8]"
   ]
  },
  {
   "cell_type": "markdown",
   "metadata": {},
   "source": [
    "## Question 6:\n",
    "What does `df.iloc[-5:]` return? How would you describe integer-based slicing with a negative lower bound and no upper bound?"
   ]
  },
  {
   "cell_type": "code",
   "execution_count": 22,
   "metadata": {
    "collapsed": false
   },
   "outputs": [
    {
     "data": {
      "text/html": [
       "<div>\n",
       "<table border=\"1\" class=\"dataframe\">\n",
       "  <thead>\n",
       "    <tr style=\"text-align: right;\">\n",
       "      <th></th>\n",
       "      <th>amt_pledged</th>\n",
       "      <th>blurb</th>\n",
       "      <th>by</th>\n",
       "      <th>category</th>\n",
       "      <th>currency</th>\n",
       "      <th>goal</th>\n",
       "      <th>location</th>\n",
       "      <th>num_backers</th>\n",
       "      <th>num_backers_tier</th>\n",
       "      <th>pledge_tier</th>\n",
       "      <th>title</th>\n",
       "      <th>url</th>\n",
       "    </tr>\n",
       "  </thead>\n",
       "  <tbody>\n",
       "    <tr>\n",
       "      <th>3995</th>\n",
       "      <td>93331</td>\n",
       "      <td>\\nBecome a monster to fight the monsters—\"Rip\"...</td>\n",
       "      <td>Shane Hensley</td>\n",
       "      <td>Tabletop Games</td>\n",
       "      <td>usd</td>\n",
       "      <td>5000</td>\n",
       "      <td>Chandler, AZ</td>\n",
       "      <td>1109</td>\n",
       "      <td>[71, 50, 415, 241, 201, 67, 10, 41]</td>\n",
       "      <td>[15.0, 25.0, 35.0, 65.0, 100.0, 150.0, 150.0, ...</td>\n",
       "      <td>Savage Worlds: Rippers Resurrected RPG!</td>\n",
       "      <td>/projects/545820095/savage-worlds-rippers-resu...</td>\n",
       "    </tr>\n",
       "    <tr>\n",
       "      <th>3996</th>\n",
       "      <td>186144</td>\n",
       "      <td>\\nThe GoBone automatically entertains your dog...</td>\n",
       "      <td>PulsePet</td>\n",
       "      <td>Gadgets</td>\n",
       "      <td>usd</td>\n",
       "      <td>60000</td>\n",
       "      <td>Dallas, TX</td>\n",
       "      <td>1109</td>\n",
       "      <td>[120, 100, 398, 200, 222, 51, 1, 2, 1]</td>\n",
       "      <td>[1.0, 129.0, 149.0, 149.0, 169.0, 299.0, 799.0...</td>\n",
       "      <td>GoBone: The world's first smartbone</td>\n",
       "      <td>/projects/santiagogutierrez/gobone-all-day-pla...</td>\n",
       "    </tr>\n",
       "    <tr>\n",
       "      <th>3997</th>\n",
       "      <td>60955</td>\n",
       "      <td>\\nCreate and share better spherical panoramas ...</td>\n",
       "      <td>I AM Cardboard</td>\n",
       "      <td>Hardware</td>\n",
       "      <td>usd</td>\n",
       "      <td>20000</td>\n",
       "      <td>Hong Kong, Hong Kong</td>\n",
       "      <td>1109</td>\n",
       "      <td>[199, 212, 10, 53, 2, 2, 191, 200, 29, 42, 2, ...</td>\n",
       "      <td>[5.0, 7.0, 10.0, 15.0, 20.0, 25.0, 70.0, 75.0,...</td>\n",
       "      <td>Orbit 360: A better way to take spherical pano...</td>\n",
       "      <td>/projects/imcardboard/orbit-360-a-better-way-t...</td>\n",
       "    </tr>\n",
       "    <tr>\n",
       "      <th>3998</th>\n",
       "      <td>69452</td>\n",
       "      <td>\\nThe Origins returned to the 16th century and...</td>\n",
       "      <td>Rick Davidson</td>\n",
       "      <td>Design</td>\n",
       "      <td>nzd</td>\n",
       "      <td>40000</td>\n",
       "      <td>Hamilton, NZ</td>\n",
       "      <td>1109</td>\n",
       "      <td>[11, 1, 50, 201, 20, 95, 266, 35, 89, 115, 15,...</td>\n",
       "      <td>[0.83, 0.83, 11.0, 12.0, 22.0, 23.0, 25.0, 33....</td>\n",
       "      <td>Origins Playing Cards - Printed by the USPCC</td>\n",
       "      <td>/projects/rickdavidson/origins-playing-cards-i...</td>\n",
       "    </tr>\n",
       "    <tr>\n",
       "      <th>3999</th>\n",
       "      <td>24409</td>\n",
       "      <td>\\n52 weeks. 52 artists. One illustrated year.\\n</td>\n",
       "      <td>OFF LIFE</td>\n",
       "      <td>Art Books</td>\n",
       "      <td>gbp</td>\n",
       "      <td>10000</td>\n",
       "      <td>London, UK</td>\n",
       "      <td>1109</td>\n",
       "      <td>[999, 50, 45, 5, 2, 1, 0]</td>\n",
       "      <td>[23.0, 38.0, 76.0, 227.0, 379.0, 758.0, 1516.0]</td>\n",
       "      <td>Yellow: The Collected Book</td>\n",
       "      <td>/projects/1907907192/yellow-the-collected-book</td>\n",
       "    </tr>\n",
       "  </tbody>\n",
       "</table>\n",
       "</div>"
      ],
      "text/plain": [
       "      amt_pledged                                              blurb  \\\n",
       "3995        93331  \\nBecome a monster to fight the monsters—\"Rip\"...   \n",
       "3996       186144  \\nThe GoBone automatically entertains your dog...   \n",
       "3997        60955  \\nCreate and share better spherical panoramas ...   \n",
       "3998        69452  \\nThe Origins returned to the 16th century and...   \n",
       "3999        24409    \\n52 weeks. 52 artists. One illustrated year.\\n   \n",
       "\n",
       "                  by        category currency   goal              location  \\\n",
       "3995   Shane Hensley  Tabletop Games      usd   5000          Chandler, AZ   \n",
       "3996        PulsePet         Gadgets      usd  60000            Dallas, TX   \n",
       "3997  I AM Cardboard        Hardware      usd  20000  Hong Kong, Hong Kong   \n",
       "3998   Rick Davidson          Design      nzd  40000          Hamilton, NZ   \n",
       "3999        OFF LIFE       Art Books      gbp  10000            London, UK   \n",
       "\n",
       "      num_backers                                   num_backers_tier  \\\n",
       "3995         1109                [71, 50, 415, 241, 201, 67, 10, 41]   \n",
       "3996         1109             [120, 100, 398, 200, 222, 51, 1, 2, 1]   \n",
       "3997         1109  [199, 212, 10, 53, 2, 2, 191, 200, 29, 42, 2, ...   \n",
       "3998         1109  [11, 1, 50, 201, 20, 95, 266, 35, 89, 115, 15,...   \n",
       "3999         1109                          [999, 50, 45, 5, 2, 1, 0]   \n",
       "\n",
       "                                            pledge_tier  \\\n",
       "3995  [15.0, 25.0, 35.0, 65.0, 100.0, 150.0, 150.0, ...   \n",
       "3996  [1.0, 129.0, 149.0, 149.0, 169.0, 299.0, 799.0...   \n",
       "3997  [5.0, 7.0, 10.0, 15.0, 20.0, 25.0, 70.0, 75.0,...   \n",
       "3998  [0.83, 0.83, 11.0, 12.0, 22.0, 23.0, 25.0, 33....   \n",
       "3999    [23.0, 38.0, 76.0, 227.0, 379.0, 758.0, 1516.0]   \n",
       "\n",
       "                                                  title  \\\n",
       "3995            Savage Worlds: Rippers Resurrected RPG!   \n",
       "3996                GoBone: The world's first smartbone   \n",
       "3997  Orbit 360: A better way to take spherical pano...   \n",
       "3998       Origins Playing Cards - Printed by the USPCC   \n",
       "3999                         Yellow: The Collected Book   \n",
       "\n",
       "                                                    url  \n",
       "3995  /projects/545820095/savage-worlds-rippers-resu...  \n",
       "3996  /projects/santiagogutierrez/gobone-all-day-pla...  \n",
       "3997  /projects/imcardboard/orbit-360-a-better-way-t...  \n",
       "3998  /projects/rickdavidson/origins-playing-cards-i...  \n",
       "3999     /projects/1907907192/yellow-the-collected-book  "
      ]
     },
     "execution_count": 22,
     "metadata": {},
     "output_type": "execute_result"
    }
   ],
   "source": [
    "df.iloc[-5:]"
   ]
  },
  {
   "cell_type": "markdown",
   "metadata": {},
   "source": [
    "## How much data do we have?\n",
    "We are able to slice the `DataFrame` object using `loc` and `iloc`, but it may not be readily apparent how much data is actually in the dataset from using these methods. \n",
    "\n",
    "The size of the dataset can be determined by calling the `len(df)` method which counts the number of rows in the `DataFrame` object.\n",
    "\n",
    "**Run** the cell below to count the number of rows in the `DataFrame` object."
   ]
  },
  {
   "cell_type": "code",
   "execution_count": 23,
   "metadata": {
    "collapsed": false,
    "scrolled": true
   },
   "outputs": [
    {
     "name": "stdout",
     "output_type": "stream",
     "text": [
      "There are 4000 rows in the DataFrame\n"
     ]
    }
   ],
   "source": [
    "print(\"There are {} rows in the DataFrame\".format(len(df)))"
   ]
  },
  {
   "cell_type": "markdown",
   "metadata": {},
   "source": [
    "[The method `df.count()`](http://pandas.pydata.org/pandas-docs/version/0.17.0/generated/pandas.DataFrame.count.html) returns more information than `len(df)`. \n",
    "\n",
    "For each feature (column) in the `DataFrame` object, `df.count()` will count the number of non-NA/null values for that feature. This is useful to get an idea of how many missing values are in your `DataFrame`, if any.\n",
    "\n",
    "**Run** the cell below to count the number of non-NA/null values for each feature using `df.count()`. Is there a feature with missing values?"
   ]
  },
  {
   "cell_type": "code",
   "execution_count": 24,
   "metadata": {
    "collapsed": false,
    "scrolled": true
   },
   "outputs": [
    {
     "data": {
      "text/plain": [
       "amt_pledged         4000\n",
       "blurb               4000\n",
       "by                  4000\n",
       "category            4000\n",
       "currency            4000\n",
       "                    ... \n",
       "num_backers         4000\n",
       "num_backers_tier    4000\n",
       "pledge_tier         4000\n",
       "title               4000\n",
       "url                 4000\n",
       "dtype: int64"
      ]
     },
     "metadata": {},
     "output_type": "display_data"
    }
   ],
   "source": [
    "display(df.count())"
   ]
  },
  {
   "cell_type": "markdown",
   "metadata": {},
   "source": [
    "## More about the `Series` and `DataFrame` objects\n",
    "**Note:** This section assumes that you are familiar with basic data structures, in particular Python dictionaries. If you need to brush up on this aspect of Python, check out the [Python tutorial on data structures](https://docs.python.org/3/tutorial/datastructures.html)!\n",
    "\n",
    "The `DataFrame` object is a two-dimensional labeled data structure. As we saw above, each row is labeled with an index and each column is labeled with a feature name. Recall that if we take a single row from the DataFrame, it becomes a `Series` object. Similarly, if we take a single column of the `DataFrame` object, we would get a `Series` object. Thus, we can think of the `DataFrame` as a Python dictionary. The key-value pairs for this dictionary are the feature names and the `Series` objects. You can retrieve a single `Series` object from a `DataFrame` the same way you would retrieve a value from a dictionary: `df['title']` would retrieve the column `'title'` from `df` as a `Series` object. Let's try it!\n",
    "\n",
    "**Run** the cell below to print the first ten lines of the `Series` object containing the all of the project titles :"
   ]
  },
  {
   "cell_type": "code",
   "execution_count": 25,
   "metadata": {
    "collapsed": false,
    "scrolled": true
   },
   "outputs": [
    {
     "data": {
      "text/plain": [
       "0                                    Exploding Kittens\n",
       "1                        Fidget Cube: A Vinyl Desk Toy\n",
       "2    Bring Reading Rainbow Back for Every Child, Ev...\n",
       "3                      The Veronica Mars Movie Project\n",
       "4                                Double Fine Adventure\n",
       "5     Pebble Time - Awesome Smartwatch, No Compromises\n",
       "6                           Torment: Tides of Numenera\n",
       "7      Pillars of Eternity (formerly Project Eternity)\n",
       "8           Yooka-Laylee - A 3D Platformer Rare-vival!\n",
       "9               ZNAPS - Connection is just a snap away\n",
       "Name: title, dtype: object"
      ]
     },
     "metadata": {},
     "output_type": "display_data"
    }
   ],
   "source": [
    "display(df['title'].head(10))"
   ]
  },
  {
   "cell_type": "markdown",
   "metadata": {},
   "source": [
    "The `Name` and `dtype` (data type) of the `Series` object are also displayed. Notice that `title` has a data type of `object` -- we'll learn more about that later in the project.\n",
    "\n",
    "We can access more than one feature of a `DataFrame` object with a list of keys rather than a single key.\n",
    "\n",
    "**Run** the cell below to print the first ten lines of just the `'title'` and `'amt_pledged'` features of the `DataFrame`."
   ]
  },
  {
   "cell_type": "code",
   "execution_count": 26,
   "metadata": {
    "collapsed": false
   },
   "outputs": [
    {
     "data": {
      "text/html": [
       "<div>\n",
       "<table border=\"1\" class=\"dataframe\">\n",
       "  <thead>\n",
       "    <tr style=\"text-align: right;\">\n",
       "      <th></th>\n",
       "      <th>title</th>\n",
       "      <th>amt_pledged</th>\n",
       "    </tr>\n",
       "  </thead>\n",
       "  <tbody>\n",
       "    <tr>\n",
       "      <th>0</th>\n",
       "      <td>Exploding Kittens</td>\n",
       "      <td>8782571</td>\n",
       "    </tr>\n",
       "    <tr>\n",
       "      <th>1</th>\n",
       "      <td>Fidget Cube: A Vinyl Desk Toy</td>\n",
       "      <td>6465690</td>\n",
       "    </tr>\n",
       "    <tr>\n",
       "      <th>2</th>\n",
       "      <td>Bring Reading Rainbow Back for Every Child, Ev...</td>\n",
       "      <td>5408916</td>\n",
       "    </tr>\n",
       "    <tr>\n",
       "      <th>3</th>\n",
       "      <td>The Veronica Mars Movie Project</td>\n",
       "      <td>5702153</td>\n",
       "    </tr>\n",
       "    <tr>\n",
       "      <th>4</th>\n",
       "      <td>Double Fine Adventure</td>\n",
       "      <td>3336371</td>\n",
       "    </tr>\n",
       "    <tr>\n",
       "      <th>5</th>\n",
       "      <td>Pebble Time - Awesome Smartwatch, No Compromises</td>\n",
       "      <td>20338986</td>\n",
       "    </tr>\n",
       "    <tr>\n",
       "      <th>6</th>\n",
       "      <td>Torment: Tides of Numenera</td>\n",
       "      <td>4188927</td>\n",
       "    </tr>\n",
       "    <tr>\n",
       "      <th>7</th>\n",
       "      <td>Pillars of Eternity (formerly Project Eternity)</td>\n",
       "      <td>3986929</td>\n",
       "    </tr>\n",
       "    <tr>\n",
       "      <th>8</th>\n",
       "      <td>Yooka-Laylee - A 3D Platformer Rare-vival!</td>\n",
       "      <td>2090104</td>\n",
       "    </tr>\n",
       "    <tr>\n",
       "      <th>9</th>\n",
       "      <td>ZNAPS - Connection is just a snap away</td>\n",
       "      <td>3007370</td>\n",
       "    </tr>\n",
       "  </tbody>\n",
       "</table>\n",
       "</div>"
      ],
      "text/plain": [
       "                                               title  amt_pledged\n",
       "0                                  Exploding Kittens      8782571\n",
       "1                      Fidget Cube: A Vinyl Desk Toy      6465690\n",
       "2  Bring Reading Rainbow Back for Every Child, Ev...      5408916\n",
       "3                    The Veronica Mars Movie Project      5702153\n",
       "4                              Double Fine Adventure      3336371\n",
       "5   Pebble Time - Awesome Smartwatch, No Compromises     20338986\n",
       "6                         Torment: Tides of Numenera      4188927\n",
       "7    Pillars of Eternity (formerly Project Eternity)      3986929\n",
       "8         Yooka-Laylee - A 3D Platformer Rare-vival!      2090104\n",
       "9             ZNAPS - Connection is just a snap away      3007370"
      ]
     },
     "metadata": {},
     "output_type": "display_data"
    }
   ],
   "source": [
    "display(df[['title','amt_pledged']].head(10))"
   ]
  },
  {
   "cell_type": "markdown",
   "metadata": {},
   "source": [
    "We accessed two features from the `DataFrame` object, and got a new `DataFrame` object as a result! That's a neat feature of `pandas`: one-dimensional labeled data structures become `Series` objects, while two-dimensional labeled data structures remain as `DataFrame` objects!\n"
   ]
  },
  {
   "cell_type": "markdown",
   "metadata": {},
   "source": [
    "## Descriptive statistics on a `Series` object\n",
    "\n",
    "Now that we are more familiar with the `Series` and `DataFrame` objects in `pandas`, let's explore the advatnages of keeping our data within these structures. Let's analyze an important quantitative feature in our data set: the `'num_backers'` column. Let's learn more about this feature by calculating some of its descriptive statistics!\n",
    "\n",
    "### Computing the mean\n",
    "\n",
    "The mean, or average, is one measure of central tendency for a data set. The mean of a set of values is the sum of all values, divided by the number of values. \n",
    "\n",
    "We can compute the mean of the `Series` object `df['num_backers']` using [the `sum()` method](http://pandas.pydata.org/pandas-docs/stable/generated/pandas.Series.sum.html) to add up all the scores, and then divide by the length of the `Series` object\n",
    "\n",
    "**Run** the cell below to store the `Series` object `df['num_backers']` into the variable `backers`, and then compute the mean."
   ]
  },
  {
   "cell_type": "code",
   "execution_count": 27,
   "metadata": {
    "collapsed": false
   },
   "outputs": [
    {
     "name": "stdout",
     "output_type": "stream",
     "text": [
      "The mean of the scores is 3582.00\n"
     ]
    }
   ],
   "source": [
    "# Manual computation \n",
    "\n",
    "backers = df['num_backers']\n",
    "print(\"The mean of the scores is {:.2f}\".format(backers.sum() / len(backers)))"
   ]
  },
  {
   "cell_type": "markdown",
   "metadata": {},
   "source": [
    "**Run** the cell below to compute the mean of `backers` using the `mean()` method. Do we find the same result?"
   ]
  },
  {
   "cell_type": "code",
   "execution_count": 28,
   "metadata": {
    "collapsed": false,
    "scrolled": true
   },
   "outputs": [
    {
     "name": "stdout",
     "output_type": "stream",
     "text": [
      "The mean of the scores is 3582.88\n"
     ]
    }
   ],
   "source": [
    "# Using the mean() method \n",
    "\n",
    "print(\"The mean of the scores is {:.2f}\".format(backers.mean()))"
   ]
  },
  {
   "cell_type": "markdown",
   "metadata": {},
   "source": [
    "### Computing the median\n",
    "The median is another measure of central tendency for a data set. When the data is arranged from smallest to largest, the median is the value in the middle of the ordered data set. \n",
    "\n",
    "- With an *odd* number of values in the data set $(2n+1)$, one value will be directly in the middle, with $n$ values above it and $n$ values below it. \n",
    "\n",
    "- With an *even* number of values in the data set $(2n)$, *two* values will be in the middle, with $n-1$ values above them and $n-1$ values below them: in this case, the median is actually the average of the two values in the middle.\n",
    "\n",
    "**Run** the cell below to compute the median by sorting `scores` in ascending order with the method [sort_values()](http://pandas.pydata.org/pandas-docs/stable/generated/pandas.Series.sort_values.html#pandas.Series.sort_values) and then finding the value(s) right in the middle of the data set with [the iloc indexer](http://pandas.pydata.org/pandas-docs/version/0.17.1/generated/pandas.DataFrame.iloc.html)."
   ]
  },
  {
   "cell_type": "code",
   "execution_count": 29,
   "metadata": {
    "collapsed": false
   },
   "outputs": [
    {
     "name": "stdout",
     "output_type": "stream",
     "text": [
      "The median of the number of backers is 1946.00\n"
     ]
    }
   ],
   "source": [
    "backers = backers.sort_values(ascending=True)\n",
    "n = len(backers)\n",
    "if n % 2 == 1:\n",
    "    median = backers.iloc[(n-1)//2]\n",
    "else:\n",
    "    median = (backers.iloc[n//2 - 1] + backers.iloc[n//2]) / 2.0\n",
    "print(\"The median of the number of backers is {:.2f}\".format(median))"
   ]
  },
  {
   "cell_type": "markdown",
   "metadata": {},
   "source": [
    "\n",
    "**Run** the cell below to compute the median of scores using the [`median()` method](http://pandas.pydata.org/pandas-docs/stable/generated/pandas.Series.median.html). Do we receive same result?"
   ]
  },
  {
   "cell_type": "code",
   "execution_count": 30,
   "metadata": {
    "collapsed": false
   },
   "outputs": [
    {
     "name": "stdout",
     "output_type": "stream",
     "text": [
      "The median number of backers is 1946.00\n"
     ]
    }
   ],
   "source": [
    "print(\"The median number of backers is {:.2f}\".format(backers.median()))"
   ]
  },
  {
   "cell_type": "markdown",
   "metadata": {},
   "source": [
    "### Finding the maximum and minimum values\n",
    "The maximum and the minimum values within a data set give us an idea of the range for that feature. \n",
    "\n",
    "Because we sorted `scores` in an earlier cell, the smallest (minimum) value within `backers` is at the start of the `Series` object, while the largest (maximum) value within `backers` is at the end of the `Series` object. Recall that the indexing convention in Python starts with 0 as the first index, and we can use the index -1 to retrieve the last item.\n",
    "\n",
    "**Run** the cell below to print the minimum and maximum values from the sorted `backers` object."
   ]
  },
  {
   "cell_type": "code",
   "execution_count": 31,
   "metadata": {
    "collapsed": false
   },
   "outputs": [
    {
     "name": "stdout",
     "output_type": "stream",
     "text": [
      "Minimum # of backers:1109.0 \n",
      "Maximum # of backers:219382.0\n"
     ]
    }
   ],
   "source": [
    "print(\"Minimum # of backers:{:.1f} \\nMaximum # of backers:{:.1f}\".format(backers.iloc[0],backers.iloc[-1]))\n"
   ]
  },
  {
   "cell_type": "markdown",
   "metadata": {},
   "source": [
    "**Run** the cell below to print the minimum and maximum values using the [`min()` method](http://pandas.pydata.org/pandas-docs/stable/generated/pandas.Series.min.html) and the [`max()` method](http://pandas.pydata.org/pandas-docs/stable/generated/pandas.Series.max.html). "
   ]
  },
  {
   "cell_type": "code",
   "execution_count": 32,
   "metadata": {
    "collapsed": false,
    "scrolled": false
   },
   "outputs": [
    {
     "name": "stdout",
     "output_type": "stream",
     "text": [
      "Minimum # of backers:1109.0 \n",
      "Maximum # of backers:219382.0\n"
     ]
    }
   ],
   "source": [
    "print(\"Minimum # of backers:{:.1f} \\nMaximum # of backers:{:.1f}\".format(backers.min(),backers.max()))"
   ]
  },
  {
   "cell_type": "markdown",
   "metadata": {},
   "source": [
    "## Selecting instances\n",
    "There may situations in which it is advantageous to select specific instances in the `DataFrame` prior to processing the data. To select specific instances, we can use [Boolean indexing](http://pandas.pydata.org/pandas-docs/stable/indexing.html#boolean-indexing).\n",
    "\n",
    "Before we explore Boolean indexing, we should see what happens when we compute a logical expression using a `Series` object. For example, let's see what happens when we check whether the `'location'` feature is equal to `'San Jose, CA'`.\n",
    "\n",
    "**Run** the cell below to compute the logical expression `df['location'] == 'Los Angeles, CA'`. What is the result?"
   ]
  },
  {
   "cell_type": "code",
   "execution_count": 33,
   "metadata": {
    "collapsed": false
   },
   "outputs": [
    {
     "data": {
      "text/plain": [
       "0        True\n",
       "1       False\n",
       "2        True\n",
       "3       False\n",
       "4       False\n",
       "        ...  \n",
       "3995    False\n",
       "3996    False\n",
       "3997    False\n",
       "3998    False\n",
       "3999    False\n",
       "Name: location, dtype: bool"
      ]
     },
     "execution_count": 33,
     "metadata": {},
     "output_type": "execute_result"
    }
   ],
   "source": [
    "df['location'] == 'Los Angeles, CA'\n",
    "\n"
   ]
  },
  {
   "cell_type": "markdown",
   "metadata": {},
   "source": [
    "The logical expression above returns a `Series` object of dtype `bool`, with a value of `True` at the indices where `df['location']` is equal to `'Los Angeles, CA'`, and `False` at the indices where `df['location']` is equal to `'Los Angeles, CA'`. \n",
    "\n",
    "**Run** the cell below to see what happens when we index a `DataFrame` object using this `Series` object."
   ]
  },
  {
   "cell_type": "code",
   "execution_count": 34,
   "metadata": {
    "collapsed": false,
    "scrolled": true
   },
   "outputs": [
    {
     "data": {
      "text/html": [
       "<div>\n",
       "<table border=\"1\" class=\"dataframe\">\n",
       "  <thead>\n",
       "    <tr style=\"text-align: right;\">\n",
       "      <th></th>\n",
       "      <th>amt_pledged</th>\n",
       "      <th>blurb</th>\n",
       "      <th>by</th>\n",
       "      <th>category</th>\n",
       "      <th>currency</th>\n",
       "      <th>goal</th>\n",
       "      <th>location</th>\n",
       "      <th>num_backers</th>\n",
       "      <th>num_backers_tier</th>\n",
       "      <th>pledge_tier</th>\n",
       "      <th>title</th>\n",
       "      <th>url</th>\n",
       "    </tr>\n",
       "  </thead>\n",
       "  <tbody>\n",
       "    <tr>\n",
       "      <th>0</th>\n",
       "      <td>8782571</td>\n",
       "      <td>\\nThis is a card game for people who are into ...</td>\n",
       "      <td>Elan Lee</td>\n",
       "      <td>Tabletop Games</td>\n",
       "      <td>usd</td>\n",
       "      <td>10000</td>\n",
       "      <td>Los Angeles, CA</td>\n",
       "      <td>219382</td>\n",
       "      <td>[15505, 202934, 200, 5]</td>\n",
       "      <td>[20.0, 35.0, 100.0, 500.0]</td>\n",
       "      <td>Exploding Kittens</td>\n",
       "      <td>/projects/elanlee/exploding-kittens</td>\n",
       "    </tr>\n",
       "    <tr>\n",
       "      <th>2</th>\n",
       "      <td>5408916</td>\n",
       "      <td>\\nBring Reading Rainbow’s library of interacti...</td>\n",
       "      <td>LeVar Burton &amp; Reading Rainbow</td>\n",
       "      <td>Web</td>\n",
       "      <td>usd</td>\n",
       "      <td>1000000</td>\n",
       "      <td>Los Angeles, CA</td>\n",
       "      <td>105857</td>\n",
       "      <td>[19639, 14343, 9136, 2259, 5666, 24512, 4957, ...</td>\n",
       "      <td>[5.0, 10.0, 25.0, 30.0, 35.0, 50.0, 75.0, 100....</td>\n",
       "      <td>Bring Reading Rainbow Back for Every Child, Ev...</td>\n",
       "      <td>/projects/readingrainbow/bring-reading-rainbow...</td>\n",
       "    </tr>\n",
       "    <tr>\n",
       "      <th>16</th>\n",
       "      <td>8596474</td>\n",
       "      <td>\\nCracking open the last closed platform: the ...</td>\n",
       "      <td>OUYA</td>\n",
       "      <td>Gaming Hardware</td>\n",
       "      <td>usd</td>\n",
       "      <td>950000</td>\n",
       "      <td>Los Angeles, CA</td>\n",
       "      <td>63416</td>\n",
       "      <td>[1770, 1898, 1000, 46124, 7755, 2500, 600, 226...</td>\n",
       "      <td>[10.0, 25.0, 95.0, 99.0, 140.0, 225.0, 699.0, ...</td>\n",
       "      <td>OUYA: A New Kind of Video Game Console</td>\n",
       "      <td>/projects/ouya/ouya-a-new-kind-of-video-game-c...</td>\n",
       "    </tr>\n",
       "    <tr>\n",
       "      <th>20</th>\n",
       "      <td>3105473</td>\n",
       "      <td>\\n\"Hell, there are no rules here - we're tryin...</td>\n",
       "      <td>Zach Braff</td>\n",
       "      <td>Narrative Film</td>\n",
       "      <td>usd</td>\n",
       "      <td>2000000</td>\n",
       "      <td>Los Angeles, CA</td>\n",
       "      <td>46520</td>\n",
       "      <td>[9133, 6208, 5706, 9952, 2952, 254, 449, 500, ...</td>\n",
       "      <td>[10.0, 20.0, 30.0, 40.0, 60.0, 75.0, 100.0, 10...</td>\n",
       "      <td>WISH I WAS HERE</td>\n",
       "      <td>/projects/1869987317/wish-i-was-here-1</td>\n",
       "    </tr>\n",
       "    <tr>\n",
       "      <th>30</th>\n",
       "      <td>2134374</td>\n",
       "      <td>\\nReclaim the stars in the exciting new Space ...</td>\n",
       "      <td>Cloud Imperium Games Corporation</td>\n",
       "      <td>Video Games</td>\n",
       "      <td>usd</td>\n",
       "      <td>500000</td>\n",
       "      <td>Los Angeles, CA</td>\n",
       "      <td>34397</td>\n",
       "      <td>[2697, 163, 5000, 5000, 3000, 4966, 2010, 3541...</td>\n",
       "      <td>[5.0, 10.0, 30.0, 30.0, 35.0, 37.0, 40.0, 60.0...</td>\n",
       "      <td>Star Citizen</td>\n",
       "      <td>/projects/cig/star-citizen</td>\n",
       "    </tr>\n",
       "    <tr>\n",
       "      <th>...</th>\n",
       "      <td>...</td>\n",
       "      <td>...</td>\n",
       "      <td>...</td>\n",
       "      <td>...</td>\n",
       "      <td>...</td>\n",
       "      <td>...</td>\n",
       "      <td>...</td>\n",
       "      <td>...</td>\n",
       "      <td>...</td>\n",
       "      <td>...</td>\n",
       "      <td>...</td>\n",
       "      <td>...</td>\n",
       "    </tr>\n",
       "    <tr>\n",
       "      <th>3901</th>\n",
       "      <td>85426</td>\n",
       "      <td>\\nHone is a Bluetooth 4.0 device for your iPho...</td>\n",
       "      <td>Geoffrey Litwack</td>\n",
       "      <td>Product Design</td>\n",
       "      <td>usd</td>\n",
       "      <td>46000</td>\n",
       "      <td>Los Angeles, CA</td>\n",
       "      <td>1132</td>\n",
       "      <td>[150, 568, 241, 137, 5, 3, 0]</td>\n",
       "      <td>[40.0, 49.0, 95.0, 135.0, 520.0, 1000.0, 2000.0]</td>\n",
       "      <td>Hone for iPhone 4S: Never Lose Your Keys Again</td>\n",
       "      <td>/projects/690528216/hone-for-iphone-4s-never-l...</td>\n",
       "    </tr>\n",
       "    <tr>\n",
       "      <th>3908</th>\n",
       "      <td>102699</td>\n",
       "      <td>\\nThe carnival reimagined with robots, fire, a...</td>\n",
       "      <td>Two Bit Circus</td>\n",
       "      <td>Technology</td>\n",
       "      <td>usd</td>\n",
       "      <td>100000</td>\n",
       "      <td>Los Angeles, CA</td>\n",
       "      <td>1130</td>\n",
       "      <td>[77, 99, 130, 200, 70, 87, 50, 180, 77, 35, 16...</td>\n",
       "      <td>[2.0, 8.0, 16.0, 20.0, 25.0, 32.0, 40.0, 48.0,...</td>\n",
       "      <td>STEAM Carnival</td>\n",
       "      <td>/projects/twobitcircus/steam-carnival-0</td>\n",
       "    </tr>\n",
       "    <tr>\n",
       "      <th>3915</th>\n",
       "      <td>66625</td>\n",
       "      <td>\\nThe next installment of the critically accla...</td>\n",
       "      <td>Wayside Creations</td>\n",
       "      <td>Film &amp;amp; Video</td>\n",
       "      <td>usd</td>\n",
       "      <td>20000</td>\n",
       "      <td>Los Angeles, CA</td>\n",
       "      <td>1129</td>\n",
       "      <td>[138, 25, 403, 108, 117, 115, 60, 40, 9, 20, 7...</td>\n",
       "      <td>[10.0, 15.0, 25.0, 30.0, 35.0, 50.0, 100.0, 15...</td>\n",
       "      <td>Fallout: Nuka Break - Tales from the Wasteland</td>\n",
       "      <td>/projects/waysidecreations/fallout-nuka-break-...</td>\n",
       "    </tr>\n",
       "    <tr>\n",
       "      <th>3941</th>\n",
       "      <td>80771</td>\n",
       "      <td>\\nImagine if McQueen, Kerouac, Muir &amp; Whitman ...</td>\n",
       "      <td>Wilderness Collective</td>\n",
       "      <td>Periodicals</td>\n",
       "      <td>usd</td>\n",
       "      <td>25000</td>\n",
       "      <td>Los Angeles, CA</td>\n",
       "      <td>1121</td>\n",
       "      <td>[50, 580, 68, 361, 20, 18, 9, 3]</td>\n",
       "      <td>[20.0, 25.0, 50.0, 75.0, 80.0, 250.0, 1500.0, ...</td>\n",
       "      <td>Wilderness - Issue 01</td>\n",
       "      <td>/projects/wildernessmag/wilderness-issue-01</td>\n",
       "    </tr>\n",
       "    <tr>\n",
       "      <th>3960</th>\n",
       "      <td>86035</td>\n",
       "      <td>\\nGrass Fed Coffee is smooth, creamy, deliciou...</td>\n",
       "      <td>Grass Fed Coffee</td>\n",
       "      <td>Drinks</td>\n",
       "      <td>usd</td>\n",
       "      <td>15000</td>\n",
       "      <td>Los Angeles, CA</td>\n",
       "      <td>1116</td>\n",
       "      <td>[43, 440, 52, 440, 13, 50, 49, 5, 5, 3, 2]</td>\n",
       "      <td>[2.0, 20.0, 22.0, 40.0, 42.0, 100.0, 105.0, 11...</td>\n",
       "      <td>The World's First Ready to Drink GrassFed Butt...</td>\n",
       "      <td>/projects/1431509519/introducing-the-worlds-fi...</td>\n",
       "    </tr>\n",
       "  </tbody>\n",
       "</table>\n",
       "<p>271 rows × 12 columns</p>\n",
       "</div>"
      ],
      "text/plain": [
       "      amt_pledged                                              blurb  \\\n",
       "0         8782571  \\nThis is a card game for people who are into ...   \n",
       "2         5408916  \\nBring Reading Rainbow’s library of interacti...   \n",
       "16        8596474  \\nCracking open the last closed platform: the ...   \n",
       "20        3105473  \\n\"Hell, there are no rules here - we're tryin...   \n",
       "30        2134374  \\nReclaim the stars in the exciting new Space ...   \n",
       "...           ...                                                ...   \n",
       "3901        85426  \\nHone is a Bluetooth 4.0 device for your iPho...   \n",
       "3908       102699  \\nThe carnival reimagined with robots, fire, a...   \n",
       "3915        66625  \\nThe next installment of the critically accla...   \n",
       "3941        80771  \\nImagine if McQueen, Kerouac, Muir & Whitman ...   \n",
       "3960        86035  \\nGrass Fed Coffee is smooth, creamy, deliciou...   \n",
       "\n",
       "                                    by          category currency     goal  \\\n",
       "0                             Elan Lee    Tabletop Games      usd    10000   \n",
       "2       LeVar Burton & Reading Rainbow               Web      usd  1000000   \n",
       "16                                OUYA   Gaming Hardware      usd   950000   \n",
       "20                          Zach Braff    Narrative Film      usd  2000000   \n",
       "30    Cloud Imperium Games Corporation       Video Games      usd   500000   \n",
       "...                                ...               ...      ...      ...   \n",
       "3901                  Geoffrey Litwack    Product Design      usd    46000   \n",
       "3908                    Two Bit Circus        Technology      usd   100000   \n",
       "3915                 Wayside Creations  Film &amp; Video      usd    20000   \n",
       "3941             Wilderness Collective       Periodicals      usd    25000   \n",
       "3960                  Grass Fed Coffee            Drinks      usd    15000   \n",
       "\n",
       "             location  num_backers  \\\n",
       "0     Los Angeles, CA       219382   \n",
       "2     Los Angeles, CA       105857   \n",
       "16    Los Angeles, CA        63416   \n",
       "20    Los Angeles, CA        46520   \n",
       "30    Los Angeles, CA        34397   \n",
       "...               ...          ...   \n",
       "3901  Los Angeles, CA         1132   \n",
       "3908  Los Angeles, CA         1130   \n",
       "3915  Los Angeles, CA         1129   \n",
       "3941  Los Angeles, CA         1121   \n",
       "3960  Los Angeles, CA         1116   \n",
       "\n",
       "                                       num_backers_tier  \\\n",
       "0                               [15505, 202934, 200, 5]   \n",
       "2     [19639, 14343, 9136, 2259, 5666, 24512, 4957, ...   \n",
       "16    [1770, 1898, 1000, 46124, 7755, 2500, 600, 226...   \n",
       "20    [9133, 6208, 5706, 9952, 2952, 254, 449, 500, ...   \n",
       "30    [2697, 163, 5000, 5000, 3000, 4966, 2010, 3541...   \n",
       "...                                                 ...   \n",
       "3901                      [150, 568, 241, 137, 5, 3, 0]   \n",
       "3908  [77, 99, 130, 200, 70, 87, 50, 180, 77, 35, 16...   \n",
       "3915  [138, 25, 403, 108, 117, 115, 60, 40, 9, 20, 7...   \n",
       "3941                   [50, 580, 68, 361, 20, 18, 9, 3]   \n",
       "3960         [43, 440, 52, 440, 13, 50, 49, 5, 5, 3, 2]   \n",
       "\n",
       "                                            pledge_tier  \\\n",
       "0                            [20.0, 35.0, 100.0, 500.0]   \n",
       "2     [5.0, 10.0, 25.0, 30.0, 35.0, 50.0, 75.0, 100....   \n",
       "16    [10.0, 25.0, 95.0, 99.0, 140.0, 225.0, 699.0, ...   \n",
       "20    [10.0, 20.0, 30.0, 40.0, 60.0, 75.0, 100.0, 10...   \n",
       "30    [5.0, 10.0, 30.0, 30.0, 35.0, 37.0, 40.0, 60.0...   \n",
       "...                                                 ...   \n",
       "3901   [40.0, 49.0, 95.0, 135.0, 520.0, 1000.0, 2000.0]   \n",
       "3908  [2.0, 8.0, 16.0, 20.0, 25.0, 32.0, 40.0, 48.0,...   \n",
       "3915  [10.0, 15.0, 25.0, 30.0, 35.0, 50.0, 100.0, 15...   \n",
       "3941  [20.0, 25.0, 50.0, 75.0, 80.0, 250.0, 1500.0, ...   \n",
       "3960  [2.0, 20.0, 22.0, 40.0, 42.0, 100.0, 105.0, 11...   \n",
       "\n",
       "                                                  title  \\\n",
       "0                                     Exploding Kittens   \n",
       "2     Bring Reading Rainbow Back for Every Child, Ev...   \n",
       "16               OUYA: A New Kind of Video Game Console   \n",
       "20                                      WISH I WAS HERE   \n",
       "30                                         Star Citizen   \n",
       "...                                                 ...   \n",
       "3901     Hone for iPhone 4S: Never Lose Your Keys Again   \n",
       "3908                                     STEAM Carnival   \n",
       "3915     Fallout: Nuka Break - Tales from the Wasteland   \n",
       "3941                              Wilderness - Issue 01   \n",
       "3960  The World's First Ready to Drink GrassFed Butt...   \n",
       "\n",
       "                                                    url  \n",
       "0                   /projects/elanlee/exploding-kittens  \n",
       "2     /projects/readingrainbow/bring-reading-rainbow...  \n",
       "16    /projects/ouya/ouya-a-new-kind-of-video-game-c...  \n",
       "20               /projects/1869987317/wish-i-was-here-1  \n",
       "30                           /projects/cig/star-citizen  \n",
       "...                                                 ...  \n",
       "3901  /projects/690528216/hone-for-iphone-4s-never-l...  \n",
       "3908            /projects/twobitcircus/steam-carnival-0  \n",
       "3915  /projects/waysidecreations/fallout-nuka-break-...  \n",
       "3941        /projects/wildernessmag/wilderness-issue-01  \n",
       "3960  /projects/1431509519/introducing-the-worlds-fi...  \n",
       "\n",
       "[271 rows x 12 columns]"
      ]
     },
     "execution_count": 34,
     "metadata": {},
     "output_type": "execute_result"
    }
   ],
   "source": [
    "df[df['location'] == 'Los Angeles, CA']\n"
   ]
  },
  {
   "cell_type": "markdown",
   "metadata": {},
   "source": [
    "Boolean Indexing returns a DataFrame keeping only the rows where the logical expression was `True`. So we are able to easily select instances using a logical expression. \n",
    "\n",
    "We can use other methods to return `Series` objects of dtype `bool`. For example, we will use [the method `Series.str.contains()`](http://pandas.pydata.org/pandas-docs/stable/generated/pandas.Series.str.contains.html) below to return all the projects that contain the string `'smart'` in their blurbs.\n",
    "\n",
    "**Run** the cell below to select only the instances where the blurb contains the string `'smart'` and display the first few `'smart'` projects."
   ]
  },
  {
   "cell_type": "code",
   "execution_count": 35,
   "metadata": {
    "collapsed": false,
    "scrolled": true
   },
   "outputs": [
    {
     "data": {
      "text/html": [
       "<div>\n",
       "<table border=\"1\" class=\"dataframe\">\n",
       "  <thead>\n",
       "    <tr style=\"text-align: right;\">\n",
       "      <th></th>\n",
       "      <th>amt_pledged</th>\n",
       "      <th>blurb</th>\n",
       "      <th>by</th>\n",
       "      <th>category</th>\n",
       "      <th>currency</th>\n",
       "      <th>goal</th>\n",
       "      <th>location</th>\n",
       "      <th>num_backers</th>\n",
       "      <th>num_backers_tier</th>\n",
       "      <th>pledge_tier</th>\n",
       "      <th>title</th>\n",
       "      <th>url</th>\n",
       "    </tr>\n",
       "  </thead>\n",
       "  <tbody>\n",
       "    <tr>\n",
       "      <th>5</th>\n",
       "      <td>20338986</td>\n",
       "      <td>\\nColor e-paper smartwatch with up to 7 days o...</td>\n",
       "      <td>Pebble Technology</td>\n",
       "      <td>Product Design</td>\n",
       "      <td>usd</td>\n",
       "      <td>500000</td>\n",
       "      <td>Palo Alto, CA</td>\n",
       "      <td>78471</td>\n",
       "      <td>[10000, 22991, 5278, 19999, 6041, 4717, 4998, ...</td>\n",
       "      <td>[159.0, 179.0, 179.0, 250.0, 250.0, 338.0, 400...</td>\n",
       "      <td>Pebble Time - Awesome Smartwatch, No Compromises</td>\n",
       "      <td>/projects/597507018/pebble-time-awesome-smartw...</td>\n",
       "    </tr>\n",
       "    <tr>\n",
       "      <th>13</th>\n",
       "      <td>12779843</td>\n",
       "      <td>\\nTwo affordable, heart rate-enabled smartwatc...</td>\n",
       "      <td>Pebble Technology</td>\n",
       "      <td>Product Design</td>\n",
       "      <td>usd</td>\n",
       "      <td>1000000</td>\n",
       "      <td>Redwood City, CA</td>\n",
       "      <td>66673</td>\n",
       "      <td>[5000, 2798, 8546, 234, 679, 9996, 2042, 13446...</td>\n",
       "      <td>[69.0, 79.0, 99.0, 109.0, 149.0, 169.0, 169.0,...</td>\n",
       "      <td>Pebble 2, Time 2 + All-New Pebble Core</td>\n",
       "      <td>/projects/597507018/pebble-2-time-2-and-core-a...</td>\n",
       "    </tr>\n",
       "    <tr>\n",
       "      <th>57</th>\n",
       "      <td>1232612</td>\n",
       "      <td>\\nPowerUp 3.0 turns your self-made paper airpl...</td>\n",
       "      <td>Shai Goitein</td>\n",
       "      <td>Flight</td>\n",
       "      <td>usd</td>\n",
       "      <td>50000</td>\n",
       "      <td>New York, NY</td>\n",
       "      <td>21412</td>\n",
       "      <td>[393, 213, 299, 3741, 10687, 5042, 759, 50, 42...</td>\n",
       "      <td>[1.0, 5.0, 30.0, 30.0, 40.0, 75.0, 99.0, 250.0...</td>\n",
       "      <td>PowerUp 3.0 - Smartphone Controlled Paper Airp...</td>\n",
       "      <td>/projects/393053146/powerup-30-smartphone-cont...</td>\n",
       "    </tr>\n",
       "    <tr>\n",
       "      <th>82</th>\n",
       "      <td>2952508</td>\n",
       "      <td>\\nThe Superbook is a shell that turns your And...</td>\n",
       "      <td>Andromium Inc.</td>\n",
       "      <td>Hardware</td>\n",
       "      <td>usd</td>\n",
       "      <td>50000</td>\n",
       "      <td>San Francisco, CA</td>\n",
       "      <td>16732</td>\n",
       "      <td>[226, 44, 150, 9984, 445, 150, 4148, 71, 68, 7...</td>\n",
       "      <td>[5.0, 25.0, 85.0, 99.0, 99.0, 145.0, 159.0, 19...</td>\n",
       "      <td>The Superbook: Turn your smartphone into a laptop</td>\n",
       "      <td>/projects/andromium/the-superbook-turn-your-sm...</td>\n",
       "    </tr>\n",
       "    <tr>\n",
       "      <th>106</th>\n",
       "      <td>1178504</td>\n",
       "      <td>\\nOur ingenious three sifting tray litter syst...</td>\n",
       "      <td>Luuup Inc.</td>\n",
       "      <td>Product Design</td>\n",
       "      <td>cad</td>\n",
       "      <td>50000</td>\n",
       "      <td>Toronto, Canada</td>\n",
       "      <td>14333</td>\n",
       "      <td>[410, 62, 40, 1601, 73, 7915, 500, 500, 2130, ...</td>\n",
       "      <td>[4.0, 13.0, 20.0, 27.0, 28.0, 34.0, 41.0, 55.0...</td>\n",
       "      <td>Luuup Litter Box - The Best Cat Litter Box Eve...</td>\n",
       "      <td>/projects/luuup/luuup-litter-box-the-best-cat-...</td>\n",
       "    </tr>\n",
       "  </tbody>\n",
       "</table>\n",
       "</div>"
      ],
      "text/plain": [
       "     amt_pledged                                              blurb  \\\n",
       "5       20338986  \\nColor e-paper smartwatch with up to 7 days o...   \n",
       "13      12779843  \\nTwo affordable, heart rate-enabled smartwatc...   \n",
       "57       1232612  \\nPowerUp 3.0 turns your self-made paper airpl...   \n",
       "82       2952508  \\nThe Superbook is a shell that turns your And...   \n",
       "106      1178504  \\nOur ingenious three sifting tray litter syst...   \n",
       "\n",
       "                    by        category currency     goal           location  \\\n",
       "5    Pebble Technology  Product Design      usd   500000      Palo Alto, CA   \n",
       "13   Pebble Technology  Product Design      usd  1000000   Redwood City, CA   \n",
       "57        Shai Goitein          Flight      usd    50000       New York, NY   \n",
       "82      Andromium Inc.        Hardware      usd    50000  San Francisco, CA   \n",
       "106         Luuup Inc.  Product Design      cad    50000    Toronto, Canada   \n",
       "\n",
       "     num_backers                                   num_backers_tier  \\\n",
       "5          78471  [10000, 22991, 5278, 19999, 6041, 4717, 4998, ...   \n",
       "13         66673  [5000, 2798, 8546, 234, 679, 9996, 2042, 13446...   \n",
       "57         21412  [393, 213, 299, 3741, 10687, 5042, 759, 50, 42...   \n",
       "82         16732  [226, 44, 150, 9984, 445, 150, 4148, 71, 68, 7...   \n",
       "106        14333  [410, 62, 40, 1601, 73, 7915, 500, 500, 2130, ...   \n",
       "\n",
       "                                           pledge_tier  \\\n",
       "5    [159.0, 179.0, 179.0, 250.0, 250.0, 338.0, 400...   \n",
       "13   [69.0, 79.0, 99.0, 109.0, 149.0, 169.0, 169.0,...   \n",
       "57   [1.0, 5.0, 30.0, 30.0, 40.0, 75.0, 99.0, 250.0...   \n",
       "82   [5.0, 25.0, 85.0, 99.0, 99.0, 145.0, 159.0, 19...   \n",
       "106  [4.0, 13.0, 20.0, 27.0, 28.0, 34.0, 41.0, 55.0...   \n",
       "\n",
       "                                                 title  \\\n",
       "5     Pebble Time - Awesome Smartwatch, No Compromises   \n",
       "13              Pebble 2, Time 2 + All-New Pebble Core   \n",
       "57   PowerUp 3.0 - Smartphone Controlled Paper Airp...   \n",
       "82   The Superbook: Turn your smartphone into a laptop   \n",
       "106  Luuup Litter Box - The Best Cat Litter Box Eve...   \n",
       "\n",
       "                                                   url  \n",
       "5    /projects/597507018/pebble-time-awesome-smartw...  \n",
       "13   /projects/597507018/pebble-2-time-2-and-core-a...  \n",
       "57   /projects/393053146/powerup-30-smartphone-cont...  \n",
       "82   /projects/andromium/the-superbook-turn-your-sm...  \n",
       "106  /projects/luuup/luuup-litter-box-the-best-cat-...  "
      ]
     },
     "metadata": {},
     "output_type": "display_data"
    }
   ],
   "source": [
    "smart_df = df[df['blurb'].str.contains('smart')]\n",
    "display(smart_df.head(5))"
   ]
  },
  {
   "cell_type": "markdown",
   "metadata": {},
   "source": [
    "Now that we've selected the instances where the `blurb` feature contains the `'smart'` string, we can check to see if smart projects have more backers than the projects in the dataset as a whole.\n",
    "\n",
    "**Run** the block of code below to display the mean number of backers for the smart projects and compare it to the overall mean. "
   ]
  },
  {
   "cell_type": "code",
   "execution_count": 36,
   "metadata": {
    "collapsed": false
   },
   "outputs": [
    {
     "name": "stdout",
     "output_type": "stream",
     "text": [
      "Mean # of backers for smart projects: 3944.04 \n",
      "Mean # of backers for all projects: 3582.88\n"
     ]
    }
   ],
   "source": [
    "print(\"Mean # of backers for smart projects: {:.2f} \\nMean # of backers for all projects: {:.2f}\".format(\n",
    "    smart_df['num_backers'].mean(), df['num_backers'].mean()))"
   ]
  },
  {
   "cell_type": "markdown",
   "metadata": {},
   "source": [
    "\n",
    "\n",
    "**Run** the block of code below to see the mean number of backers in San Jose, CA. "
   ]
  },
  {
   "cell_type": "code",
   "execution_count": 37,
   "metadata": {
    "collapsed": false
   },
   "outputs": [
    {
     "name": "stdout",
     "output_type": "stream",
     "text": [
      "The mean # of backers of the 27 projects located in San Jose, CA  is 4094.81.\n"
     ]
    }
   ],
   "source": [
    "df_san_jose = df[df['location']=='San Jose, CA']\n",
    "print(\"The mean # of backers of the {} projects located in San Jose, CA  is {:.2f}.\".format(len(df_san_jose),df_san_jose['num_backers'].mean()))"
   ]
  },
  {
   "cell_type": "markdown",
   "metadata": {},
   "source": [
    "We can use [the `isin()` method](http://pandas.pydata.org/pandas-docs/stable/generated/pandas.Series.isin.html) to see if the value of a feature is equal to any of the values within a list. \n",
    "\n",
    "This is useful if we want to select items that belong to a category that is not necessarily numerical or lexical. For example, if we want to consider projects utilizing sensor-based technology, we might want to select only the instances from `df` where the `'category'` feature is `'Wearables'`, `'DIY Electronics'`, or `'Gadgets'`.\n",
    "\n"
   ]
  },
  {
   "cell_type": "code",
   "execution_count": 38,
   "metadata": {
    "collapsed": false
   },
   "outputs": [
    {
     "name": "stdout",
     "output_type": "stream",
     "text": [
      "The mean # of backers of the 227 sensor-based technology projects is 3075.82.\n"
     ]
    }
   ],
   "source": [
    "sensor_tech_df = df[df['category'].isin(['Wearables', 'DIY Electronics', 'Gadgets'])]\n",
    "print(\"The mean # of backers of the {} sensor-based technology projects is {:.2f}.\".format(len(sensor_tech_df),sensor_tech_df['num_backers'].mean()))"
   ]
  },
  {
   "cell_type": "code",
   "execution_count": 45,
   "metadata": {
    "collapsed": false
   },
   "outputs": [
    {
     "data": {
      "text/html": [
       "<div>\n",
       "<table border=\"1\" class=\"dataframe\">\n",
       "  <thead>\n",
       "    <tr style=\"text-align: right;\">\n",
       "      <th></th>\n",
       "      <th>amt_pledged</th>\n",
       "      <th>blurb</th>\n",
       "      <th>by</th>\n",
       "      <th>category</th>\n",
       "      <th>currency</th>\n",
       "      <th>goal</th>\n",
       "      <th>location</th>\n",
       "      <th>num_backers</th>\n",
       "      <th>num_backers_tier</th>\n",
       "      <th>pledge_tier</th>\n",
       "      <th>title</th>\n",
       "      <th>url</th>\n",
       "    </tr>\n",
       "  </thead>\n",
       "  <tbody>\n",
       "    <tr>\n",
       "      <th>192</th>\n",
       "      <td>1710713</td>\n",
       "      <td>\\nLead your Guild of heroes into Inferno, figh...</td>\n",
       "      <td>CoolMiniOrNot</td>\n",
       "      <td>Tabletop Games</td>\n",
       "      <td>usd</td>\n",
       "      <td>100000</td>\n",
       "      <td>Atlanta, GA</td>\n",
       "      <td>9991</td>\n",
       "      <td>[1332, 7848]</td>\n",
       "      <td>[90.0, 100.0]</td>\n",
       "      <td>Arcadia Quest: Inferno</td>\n",
       "      <td>/projects/coolminiornot/arcadia-quest-inferno</td>\n",
       "    </tr>\n",
       "    <tr>\n",
       "      <th>193</th>\n",
       "      <td>1518321</td>\n",
       "      <td>\\nThe end of the Multiverse! Featuring the fin...</td>\n",
       "      <td>GreaterThanGames</td>\n",
       "      <td>Tabletop Games</td>\n",
       "      <td>usd</td>\n",
       "      <td>40000</td>\n",
       "      <td>St. Louis, MO</td>\n",
       "      <td>9982</td>\n",
       "      <td>[256, 355, 1317, 288, 195, 160, 2089, 4237, 22...</td>\n",
       "      <td>[1.0, 39.0, 54.0, 69.0, 84.0, 99.0, 109.0, 139...</td>\n",
       "      <td>Sentinels of the Multiverse: OblivAeon</td>\n",
       "      <td>/projects/gtgames/sentinels-of-the-multiverse-...</td>\n",
       "    </tr>\n",
       "    <tr>\n",
       "      <th>194</th>\n",
       "      <td>2085491</td>\n",
       "      <td>\\nThe Most Interactive Smartwatch. Intuitive I...</td>\n",
       "      <td>Mobvoi</td>\n",
       "      <td>Wearables</td>\n",
       "      <td>usd</td>\n",
       "      <td>50000</td>\n",
       "      <td>Beijing, China</td>\n",
       "      <td>9955</td>\n",
       "      <td>[200, 199, 2770, 199, 600, 123, 420, 1997, 981...</td>\n",
       "      <td>[99.0, 129.0, 139.0, 149.0, 149.0, 159.0, 159....</td>\n",
       "      <td>Ticwatch 2: The Most Interactive Smartwatch</td>\n",
       "      <td>/projects/mobvoi/ticwatch-2-the-most-interacti...</td>\n",
       "    </tr>\n",
       "    <tr>\n",
       "      <th>195</th>\n",
       "      <td>437738</td>\n",
       "      <td>\\nWorld's Only Travel Power Strip. Smaller tha...</td>\n",
       "      <td>MOGICS</td>\n",
       "      <td>Product Design</td>\n",
       "      <td>usd</td>\n",
       "      <td>15000</td>\n",
       "      <td>Redondo Beach, CA</td>\n",
       "      <td>9882</td>\n",
       "      <td>[100, 100, 100, 1784, 843, 100, 100, 2379, 4352]</td>\n",
       "      <td>[1.0, 26.0, 26.0, 29.0, 29.0, 36.0, 36.0, 39.0...</td>\n",
       "      <td>MOGICS Power Donut &amp; Bagel - Share the Power, ...</td>\n",
       "      <td>/projects/962021031/mogics-power-donut-and-bag...</td>\n",
       "    </tr>\n",
       "    <tr>\n",
       "      <th>196</th>\n",
       "      <td>905682</td>\n",
       "      <td>\\nA strategic board game with amazing miniatur...</td>\n",
       "      <td>CoolMiniOrNot</td>\n",
       "      <td>Tabletop Games</td>\n",
       "      <td>usd</td>\n",
       "      <td>50000</td>\n",
       "      <td>Atlanta, GA</td>\n",
       "      <td>9825</td>\n",
       "      <td>[752, 8777]</td>\n",
       "      <td>[70.0, 75.0]</td>\n",
       "      <td>Blood Rage</td>\n",
       "      <td>/projects/coolminiornot/blood-rage</td>\n",
       "    </tr>\n",
       "    <tr>\n",
       "      <th>...</th>\n",
       "      <td>...</td>\n",
       "      <td>...</td>\n",
       "      <td>...</td>\n",
       "      <td>...</td>\n",
       "      <td>...</td>\n",
       "      <td>...</td>\n",
       "      <td>...</td>\n",
       "      <td>...</td>\n",
       "      <td>...</td>\n",
       "      <td>...</td>\n",
       "      <td>...</td>\n",
       "      <td>...</td>\n",
       "    </tr>\n",
       "    <tr>\n",
       "      <th>226</th>\n",
       "      <td>65195</td>\n",
       "      <td>\\nThe super portable war/area control game wit...</td>\n",
       "      <td>Michael Mindes</td>\n",
       "      <td>Tabletop Games</td>\n",
       "      <td>usd</td>\n",
       "      <td>5000</td>\n",
       "      <td>Mountain Green, UT</td>\n",
       "      <td>9055</td>\n",
       "      <td>[5237, 2145, 790, 873]</td>\n",
       "      <td>[3.0, 6.0, 9.0, 12.0]</td>\n",
       "      <td>Coin Age -  A PAY-WHAT-YOU-WANT area control m...</td>\n",
       "      <td>/projects/michaelmindes/coin-age-a-pay-what-yo...</td>\n",
       "    </tr>\n",
       "    <tr>\n",
       "      <th>227</th>\n",
       "      <td>384410</td>\n",
       "      <td>\\nAugie and the Green Knight is an adventure s...</td>\n",
       "      <td>Zachary Weiner</td>\n",
       "      <td>Children's Books</td>\n",
       "      <td>usd</td>\n",
       "      <td>30000</td>\n",
       "      <td>Brooklyn, NY</td>\n",
       "      <td>9044</td>\n",
       "      <td>[987, 4222, 1656, 524, 495, 317, 411, 55, 154,...</td>\n",
       "      <td>[10.0, 25.0, 35.0, 50.0, 55.0, 75.0, 85.0, 95....</td>\n",
       "      <td>Augie and the Green Knight: A Children's Adven...</td>\n",
       "      <td>/projects/weiner/augie-and-the-green-knight-a-...</td>\n",
       "    </tr>\n",
       "    <tr>\n",
       "      <th>228</th>\n",
       "      <td>462171</td>\n",
       "      <td>\\nRevolutionary solid titanium micro ear plugs...</td>\n",
       "      <td>Flare Audio</td>\n",
       "      <td>Wearables</td>\n",
       "      <td>gbp</td>\n",
       "      <td>25000</td>\n",
       "      <td>Lancing, UK</td>\n",
       "      <td>9035</td>\n",
       "      <td>[2319, 1642, 712, 177, 59, 2088, 136, 62, 8, 4...</td>\n",
       "      <td>[31.0, 31.0, 60.0, 60.0, 60.0, 61.0, 64.0, 86....</td>\n",
       "      <td>ISOLATE\\xae - Switch off your ears!</td>\n",
       "      <td>/projects/584645150/isolate-switch-off-your-ears</td>\n",
       "    </tr>\n",
       "    <tr>\n",
       "      <th>229</th>\n",
       "      <td>526125</td>\n",
       "      <td>\\nNeal Stephenson wants to revolutionize sword...</td>\n",
       "      <td>Subutai Corporation</td>\n",
       "      <td>Video Games</td>\n",
       "      <td>usd</td>\n",
       "      <td>500000</td>\n",
       "      <td>Seattle, WA</td>\n",
       "      <td>9023</td>\n",
       "      <td>[672, 5369, 410, 421, 567, 584, 333, 64, 37, 1...</td>\n",
       "      <td>[10.0, 25.0, 40.0, 50.0, 75.0, 100.0, 150.0, 2...</td>\n",
       "      <td>CLANG</td>\n",
       "      <td>/projects/260688528/clang</td>\n",
       "    </tr>\n",
       "    <tr>\n",
       "      <th>230</th>\n",
       "      <td>1576011</td>\n",
       "      <td>\\nPlug in your phone, snap a picture, and get ...</td>\n",
       "      <td>Prynt</td>\n",
       "      <td>Gadgets</td>\n",
       "      <td>usd</td>\n",
       "      <td>50000</td>\n",
       "      <td>San Francisco, CA</td>\n",
       "      <td>9023</td>\n",
       "      <td>[507, 102, 20, 200, 799, 5523, 209, 424, 888, ...</td>\n",
       "      <td>[1.0, 25.0, 49.0, 79.0, 99.0, 99.0, 129.0, 149...</td>\n",
       "      <td>Prynt: the first instant camera case for iPhon...</td>\n",
       "      <td>/projects/prynt/prynt-the-first-instant-camera...</td>\n",
       "    </tr>\n",
       "  </tbody>\n",
       "</table>\n",
       "<p>39 rows × 12 columns</p>\n",
       "</div>"
      ],
      "text/plain": [
       "     amt_pledged                                              blurb  \\\n",
       "192      1710713  \\nLead your Guild of heroes into Inferno, figh...   \n",
       "193      1518321  \\nThe end of the Multiverse! Featuring the fin...   \n",
       "194      2085491  \\nThe Most Interactive Smartwatch. Intuitive I...   \n",
       "195       437738  \\nWorld's Only Travel Power Strip. Smaller tha...   \n",
       "196       905682  \\nA strategic board game with amazing miniatur...   \n",
       "..           ...                                                ...   \n",
       "226        65195  \\nThe super portable war/area control game wit...   \n",
       "227       384410  \\nAugie and the Green Knight is an adventure s...   \n",
       "228       462171  \\nRevolutionary solid titanium micro ear plugs...   \n",
       "229       526125  \\nNeal Stephenson wants to revolutionize sword...   \n",
       "230      1576011  \\nPlug in your phone, snap a picture, and get ...   \n",
       "\n",
       "                      by          category currency    goal  \\\n",
       "192        CoolMiniOrNot    Tabletop Games      usd  100000   \n",
       "193     GreaterThanGames    Tabletop Games      usd   40000   \n",
       "194               Mobvoi         Wearables      usd   50000   \n",
       "195               MOGICS    Product Design      usd   15000   \n",
       "196        CoolMiniOrNot    Tabletop Games      usd   50000   \n",
       "..                   ...               ...      ...     ...   \n",
       "226       Michael Mindes    Tabletop Games      usd    5000   \n",
       "227       Zachary Weiner  Children's Books      usd   30000   \n",
       "228          Flare Audio         Wearables      gbp   25000   \n",
       "229  Subutai Corporation       Video Games      usd  500000   \n",
       "230                Prynt           Gadgets      usd   50000   \n",
       "\n",
       "               location  num_backers  \\\n",
       "192         Atlanta, GA         9991   \n",
       "193       St. Louis, MO         9982   \n",
       "194      Beijing, China         9955   \n",
       "195   Redondo Beach, CA         9882   \n",
       "196         Atlanta, GA         9825   \n",
       "..                  ...          ...   \n",
       "226  Mountain Green, UT         9055   \n",
       "227        Brooklyn, NY         9044   \n",
       "228         Lancing, UK         9035   \n",
       "229         Seattle, WA         9023   \n",
       "230   San Francisco, CA         9023   \n",
       "\n",
       "                                      num_backers_tier  \\\n",
       "192                                       [1332, 7848]   \n",
       "193  [256, 355, 1317, 288, 195, 160, 2089, 4237, 22...   \n",
       "194  [200, 199, 2770, 199, 600, 123, 420, 1997, 981...   \n",
       "195   [100, 100, 100, 1784, 843, 100, 100, 2379, 4352]   \n",
       "196                                        [752, 8777]   \n",
       "..                                                 ...   \n",
       "226                             [5237, 2145, 790, 873]   \n",
       "227  [987, 4222, 1656, 524, 495, 317, 411, 55, 154,...   \n",
       "228  [2319, 1642, 712, 177, 59, 2088, 136, 62, 8, 4...   \n",
       "229  [672, 5369, 410, 421, 567, 584, 333, 64, 37, 1...   \n",
       "230  [507, 102, 20, 200, 799, 5523, 209, 424, 888, ...   \n",
       "\n",
       "                                           pledge_tier  \\\n",
       "192                                      [90.0, 100.0]   \n",
       "193  [1.0, 39.0, 54.0, 69.0, 84.0, 99.0, 109.0, 139...   \n",
       "194  [99.0, 129.0, 139.0, 149.0, 149.0, 159.0, 159....   \n",
       "195  [1.0, 26.0, 26.0, 29.0, 29.0, 36.0, 36.0, 39.0...   \n",
       "196                                       [70.0, 75.0]   \n",
       "..                                                 ...   \n",
       "226                              [3.0, 6.0, 9.0, 12.0]   \n",
       "227  [10.0, 25.0, 35.0, 50.0, 55.0, 75.0, 85.0, 95....   \n",
       "228  [31.0, 31.0, 60.0, 60.0, 60.0, 61.0, 64.0, 86....   \n",
       "229  [10.0, 25.0, 40.0, 50.0, 75.0, 100.0, 150.0, 2...   \n",
       "230  [1.0, 25.0, 49.0, 79.0, 99.0, 99.0, 129.0, 149...   \n",
       "\n",
       "                                                 title  \\\n",
       "192                             Arcadia Quest: Inferno   \n",
       "193             Sentinels of the Multiverse: OblivAeon   \n",
       "194        Ticwatch 2: The Most Interactive Smartwatch   \n",
       "195  MOGICS Power Donut & Bagel - Share the Power, ...   \n",
       "196                                         Blood Rage   \n",
       "..                                                 ...   \n",
       "226  Coin Age -  A PAY-WHAT-YOU-WANT area control m...   \n",
       "227  Augie and the Green Knight: A Children's Adven...   \n",
       "228                ISOLATE\\xae - Switch off your ears!   \n",
       "229                                              CLANG   \n",
       "230  Prynt: the first instant camera case for iPhon...   \n",
       "\n",
       "                                                   url  \n",
       "192      /projects/coolminiornot/arcadia-quest-inferno  \n",
       "193  /projects/gtgames/sentinels-of-the-multiverse-...  \n",
       "194  /projects/mobvoi/ticwatch-2-the-most-interacti...  \n",
       "195  /projects/962021031/mogics-power-donut-and-bag...  \n",
       "196                 /projects/coolminiornot/blood-rage  \n",
       "..                                                 ...  \n",
       "226  /projects/michaelmindes/coin-age-a-pay-what-yo...  \n",
       "227  /projects/weiner/augie-and-the-green-knight-a-...  \n",
       "228   /projects/584645150/isolate-switch-off-your-ears  \n",
       "229                          /projects/260688528/clang  \n",
       "230  /projects/prynt/prynt-the-first-instant-camera...  \n",
       "\n",
       "[39 rows x 12 columns]"
      ]
     },
     "metadata": {},
     "output_type": "display_data"
    }
   ],
   "source": [
    "sensor_tech_df = df[(df['num_backers'] < 10000) & (df['num_backers'] > 9000)]\n",
    "display(sensor_tech_df)"
   ]
  },
  {
   "cell_type": "markdown",
   "metadata": {},
   "source": [
    "## Describing and grouping\n",
    "There are a few other `pandas` techniques that will help you with your initial data exploration. The first is [the `describe()` method](http://pandas.pydata.org/pandas-docs/stable/generated/pandas.DataFrame.describe.html), that provides a descriptive summary of all numerical features within a `DataFrame` object.\n",
    "\n",
    "**Run** the cell below to see what happens when you call `df.describe()`"
   ]
  },
  {
   "cell_type": "code",
   "execution_count": 41,
   "metadata": {
    "collapsed": false,
    "scrolled": true
   },
   "outputs": [
    {
     "data": {
      "text/html": [
       "<div>\n",
       "<table border=\"1\" class=\"dataframe\">\n",
       "  <thead>\n",
       "    <tr style=\"text-align: right;\">\n",
       "      <th></th>\n",
       "      <th>amt_pledged</th>\n",
       "      <th>goal</th>\n",
       "      <th>num_backers</th>\n",
       "    </tr>\n",
       "  </thead>\n",
       "  <tbody>\n",
       "    <tr>\n",
       "      <th>count</th>\n",
       "      <td>4.000000e+03</td>\n",
       "      <td>4.000000e+03</td>\n",
       "      <td>4000.000000</td>\n",
       "    </tr>\n",
       "    <tr>\n",
       "      <th>mean</th>\n",
       "      <td>2.899923e+05</td>\n",
       "      <td>6.175203e+04</td>\n",
       "      <td>3582.875750</td>\n",
       "    </tr>\n",
       "    <tr>\n",
       "      <th>std</th>\n",
       "      <td>7.119369e+05</td>\n",
       "      <td>1.266715e+05</td>\n",
       "      <td>7316.102809</td>\n",
       "    </tr>\n",
       "    <tr>\n",
       "      <th>min</th>\n",
       "      <td>1.925000e+03</td>\n",
       "      <td>1.000000e+00</td>\n",
       "      <td>1109.000000</td>\n",
       "    </tr>\n",
       "    <tr>\n",
       "      <th>25%</th>\n",
       "      <td>6.771300e+04</td>\n",
       "      <td>1.300000e+04</td>\n",
       "      <td>1406.750000</td>\n",
       "    </tr>\n",
       "    <tr>\n",
       "      <th>50%</th>\n",
       "      <td>1.205860e+05</td>\n",
       "      <td>3.000000e+04</td>\n",
       "      <td>1946.000000</td>\n",
       "    </tr>\n",
       "    <tr>\n",
       "      <th>75%</th>\n",
       "      <td>2.593680e+05</td>\n",
       "      <td>6.000000e+04</td>\n",
       "      <td>3372.000000</td>\n",
       "    </tr>\n",
       "    <tr>\n",
       "      <th>max</th>\n",
       "      <td>2.033899e+07</td>\n",
       "      <td>2.000000e+06</td>\n",
       "      <td>219382.000000</td>\n",
       "    </tr>\n",
       "  </tbody>\n",
       "</table>\n",
       "</div>"
      ],
      "text/plain": [
       "        amt_pledged          goal    num_backers\n",
       "count  4.000000e+03  4.000000e+03    4000.000000\n",
       "mean   2.899923e+05  6.175203e+04    3582.875750\n",
       "std    7.119369e+05  1.266715e+05    7316.102809\n",
       "min    1.925000e+03  1.000000e+00    1109.000000\n",
       "25%    6.771300e+04  1.300000e+04    1406.750000\n",
       "50%    1.205860e+05  3.000000e+04    1946.000000\n",
       "75%    2.593680e+05  6.000000e+04    3372.000000\n",
       "max    2.033899e+07  2.000000e+06  219382.000000"
      ]
     },
     "metadata": {},
     "output_type": "display_data"
    }
   ],
   "source": [
    "display(df.describe())"
   ]
  },
  {
   "cell_type": "markdown",
   "metadata": {},
   "source": [
    "`describe()` returns the count, the mean, the standard deviation, the minimum, the 25th, 50th, and 75th percentiles, and the maximum for features with numeric dtypes. \n",
    "\n",
    "It is also valuable to view descriptive statistics for each of the groups in a feature.  This can be done by using the [the `groupby()` method](http://pandas.pydata.org/pandas-docs/stable/generated/pandas.DataFrame.groupby.html). We can combine the `groupby()` method with descriptive statistics methods, such as `min()`, `max()`, `mean()`, and `median()` to apply the function to each groups. \n",
    "\n",
    "Let's use `groupby()` to see the mean number of backers for each `category`.\n",
    "\n",
    "**Run** the code below to try your first `groupby()` command!"
   ]
  },
  {
   "cell_type": "code",
   "execution_count": 42,
   "metadata": {
    "collapsed": false,
    "scrolled": false
   },
   "outputs": [
    {
     "data": {
      "text/plain": [
       "category\n",
       "3D Printing     3394.130435\n",
       "Academic        1461.000000\n",
       "Accessories     3097.550000\n",
       "Action         17713.000000\n",
       "Animation       3650.836735\n",
       "                   ...     \n",
       "Webcomics       2009.575758\n",
       "Webseries       2584.562500\n",
       "World Music     6518.500000\n",
       "Young Adult     1199.000000\n",
       "Zines           1153.000000\n",
       "Name: num_backers, dtype: float64"
      ]
     },
     "execution_count": 42,
     "metadata": {},
     "output_type": "execute_result"
    }
   ],
   "source": [
    "df.groupby('category')['num_backers'].mean()"
   ]
  },
  {
   "cell_type": "markdown",
   "metadata": {},
   "source": [
    "\n",
    "\n",
    "**Run** the cell below to use `groupby()` to plot the results for only a few specific cities:"
   ]
  },
  {
   "cell_type": "code",
   "execution_count": 43,
   "metadata": {
    "collapsed": false,
    "scrolled": true
   },
   "outputs": [
    {
     "data": {
      "image/png": "[encoded data removed]",
      "text/plain": [
       "<matplotlib.figure.Figure at 0xb29a550>"
      ]
     },
     "metadata": {},
     "output_type": "display_data"
    }
   ],
   "source": [
    "bay_area = ['Palo Alto, CA','San Francisco, CA','San Jose, CA']\n",
    "ax = df.groupby('location')['num_backers'].mean()[bay_area].plot(kind=\"bar\")\n",
    "xlabel = ax.set_xlabel(\"City\")\n",
    "ylabel = ax.set_ylabel(\"Average # of backers\")\n",
    "ylim = ax.set_ylim([0,10000])"
   ]
  }
 ],
 "metadata": {
  "kernelspec": {
   "display_name": "Python 2",
   "language": "python",
   "name": "python2"
  },
  "language_info": {
   "codemirror_mode": {
    "name": "ipython",
    "version": 2
   },
   "file_extension": ".py",
   "mimetype": "text/x-python",
   "name": "python",
   "nbconvert_exporter": "python",
   "pygments_lexer": "ipython2",
   "version": "2.7.13"
  }
 },
 "nbformat": 4,
 "nbformat_minor": 2
}
